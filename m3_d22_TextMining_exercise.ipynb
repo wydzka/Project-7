{
 "cells": [
  {
   "attachments": {},
   "cell_type": "markdown",
   "metadata": {},
   "source": [
    "# Exercise: Text Mining\n",
    "\n",
    "Gunakan dataset Tweets.csv\n",
    "\n",
    "Dataset ini berisi tweet yang ditujukan (mention) ke maskapai di US. Anda bekerja sebagai data scientist yang ditugaskan untuk memprediksi apakah sebuah tweet termasuk ke dalam sentiment negative (class 1) atau positive or neutral (class 0).\n",
    "\n",
    "- Lakukan preprocessing pada semua tweet \n",
    "- Lakukan EDA. Apakah ada perbedaan antara tweet sentiment negative (class 1) dengan tweet sentiment positive or neutral (class 0)?\n",
    "- Definisikan FP dan FN dalam kasus sentiment analysis ini\n",
    "- Lakukan klasifikasi"
   ]
  },
  {
   "cell_type": "code",
   "execution_count": 1,
   "metadata": {},
   "outputs": [],
   "source": [
    "import numpy as np \n",
    "import pandas as pd \n",
    "import seaborn as sns \n",
    "import matplotlib.pyplot as plt "
   ]
  },
  {
   "attachments": {},
   "cell_type": "markdown",
   "metadata": {},
   "source": [
    "## Preprocessing Part 1\n",
    "\n",
    "1. Lowercase\n",
    "1. Remove contraction\n",
    "1. Remove number\n",
    "1. Remove punctuation\n",
    "1. Remove stopwords\n",
    "1. Romove whitespace"
   ]
  },
  {
   "cell_type": "code",
   "execution_count": 2,
   "metadata": {},
   "outputs": [
    {
     "data": {
      "text/html": [
       "<div>\n",
       "<style scoped>\n",
       "    .dataframe tbody tr th:only-of-type {\n",
       "        vertical-align: middle;\n",
       "    }\n",
       "\n",
       "    .dataframe tbody tr th {\n",
       "        vertical-align: top;\n",
       "    }\n",
       "\n",
       "    .dataframe thead th {\n",
       "        text-align: right;\n",
       "    }\n",
       "</style>\n",
       "<table border=\"1\" class=\"dataframe\">\n",
       "  <thead>\n",
       "    <tr style=\"text-align: right;\">\n",
       "      <th></th>\n",
       "      <th>tweet_id</th>\n",
       "      <th>airline_sentiment</th>\n",
       "      <th>airline_sentiment_confidence</th>\n",
       "      <th>negativereason</th>\n",
       "      <th>negativereason_confidence</th>\n",
       "      <th>airline</th>\n",
       "      <th>airline_sentiment_gold</th>\n",
       "      <th>name</th>\n",
       "      <th>negativereason_gold</th>\n",
       "      <th>retweet_count</th>\n",
       "      <th>text</th>\n",
       "      <th>tweet_coord</th>\n",
       "      <th>tweet_created</th>\n",
       "      <th>tweet_location</th>\n",
       "      <th>user_timezone</th>\n",
       "    </tr>\n",
       "  </thead>\n",
       "  <tbody>\n",
       "    <tr>\n",
       "      <th>0</th>\n",
       "      <td>570306133677760513</td>\n",
       "      <td>neutral</td>\n",
       "      <td>1.0000</td>\n",
       "      <td>NaN</td>\n",
       "      <td>NaN</td>\n",
       "      <td>Virgin America</td>\n",
       "      <td>NaN</td>\n",
       "      <td>cairdin</td>\n",
       "      <td>NaN</td>\n",
       "      <td>0</td>\n",
       "      <td>@VirginAmerica What @dhepburn said.</td>\n",
       "      <td>NaN</td>\n",
       "      <td>2015-02-24 11:35:52 -0800</td>\n",
       "      <td>NaN</td>\n",
       "      <td>Eastern Time (US &amp; Canada)</td>\n",
       "    </tr>\n",
       "    <tr>\n",
       "      <th>1</th>\n",
       "      <td>570301130888122368</td>\n",
       "      <td>positive</td>\n",
       "      <td>0.3486</td>\n",
       "      <td>NaN</td>\n",
       "      <td>0.0000</td>\n",
       "      <td>Virgin America</td>\n",
       "      <td>NaN</td>\n",
       "      <td>jnardino</td>\n",
       "      <td>NaN</td>\n",
       "      <td>0</td>\n",
       "      <td>@VirginAmerica plus you've added commercials t...</td>\n",
       "      <td>NaN</td>\n",
       "      <td>2015-02-24 11:15:59 -0800</td>\n",
       "      <td>NaN</td>\n",
       "      <td>Pacific Time (US &amp; Canada)</td>\n",
       "    </tr>\n",
       "    <tr>\n",
       "      <th>2</th>\n",
       "      <td>570301083672813571</td>\n",
       "      <td>neutral</td>\n",
       "      <td>0.6837</td>\n",
       "      <td>NaN</td>\n",
       "      <td>NaN</td>\n",
       "      <td>Virgin America</td>\n",
       "      <td>NaN</td>\n",
       "      <td>yvonnalynn</td>\n",
       "      <td>NaN</td>\n",
       "      <td>0</td>\n",
       "      <td>@VirginAmerica I didn't today... Must mean I n...</td>\n",
       "      <td>NaN</td>\n",
       "      <td>2015-02-24 11:15:48 -0800</td>\n",
       "      <td>Lets Play</td>\n",
       "      <td>Central Time (US &amp; Canada)</td>\n",
       "    </tr>\n",
       "    <tr>\n",
       "      <th>3</th>\n",
       "      <td>570301031407624196</td>\n",
       "      <td>negative</td>\n",
       "      <td>1.0000</td>\n",
       "      <td>Bad Flight</td>\n",
       "      <td>0.7033</td>\n",
       "      <td>Virgin America</td>\n",
       "      <td>NaN</td>\n",
       "      <td>jnardino</td>\n",
       "      <td>NaN</td>\n",
       "      <td>0</td>\n",
       "      <td>@VirginAmerica it's really aggressive to blast...</td>\n",
       "      <td>NaN</td>\n",
       "      <td>2015-02-24 11:15:36 -0800</td>\n",
       "      <td>NaN</td>\n",
       "      <td>Pacific Time (US &amp; Canada)</td>\n",
       "    </tr>\n",
       "    <tr>\n",
       "      <th>4</th>\n",
       "      <td>570300817074462722</td>\n",
       "      <td>negative</td>\n",
       "      <td>1.0000</td>\n",
       "      <td>Can't Tell</td>\n",
       "      <td>1.0000</td>\n",
       "      <td>Virgin America</td>\n",
       "      <td>NaN</td>\n",
       "      <td>jnardino</td>\n",
       "      <td>NaN</td>\n",
       "      <td>0</td>\n",
       "      <td>@VirginAmerica and it's a really big bad thing...</td>\n",
       "      <td>NaN</td>\n",
       "      <td>2015-02-24 11:14:45 -0800</td>\n",
       "      <td>NaN</td>\n",
       "      <td>Pacific Time (US &amp; Canada)</td>\n",
       "    </tr>\n",
       "  </tbody>\n",
       "</table>\n",
       "</div>"
      ],
      "text/plain": [
       "             tweet_id airline_sentiment  airline_sentiment_confidence  \\\n",
       "0  570306133677760513           neutral                        1.0000   \n",
       "1  570301130888122368          positive                        0.3486   \n",
       "2  570301083672813571           neutral                        0.6837   \n",
       "3  570301031407624196          negative                        1.0000   \n",
       "4  570300817074462722          negative                        1.0000   \n",
       "\n",
       "  negativereason  negativereason_confidence         airline  \\\n",
       "0            NaN                        NaN  Virgin America   \n",
       "1            NaN                     0.0000  Virgin America   \n",
       "2            NaN                        NaN  Virgin America   \n",
       "3     Bad Flight                     0.7033  Virgin America   \n",
       "4     Can't Tell                     1.0000  Virgin America   \n",
       "\n",
       "  airline_sentiment_gold        name negativereason_gold  retweet_count  \\\n",
       "0                    NaN     cairdin                 NaN              0   \n",
       "1                    NaN    jnardino                 NaN              0   \n",
       "2                    NaN  yvonnalynn                 NaN              0   \n",
       "3                    NaN    jnardino                 NaN              0   \n",
       "4                    NaN    jnardino                 NaN              0   \n",
       "\n",
       "                                                text tweet_coord  \\\n",
       "0                @VirginAmerica What @dhepburn said.         NaN   \n",
       "1  @VirginAmerica plus you've added commercials t...         NaN   \n",
       "2  @VirginAmerica I didn't today... Must mean I n...         NaN   \n",
       "3  @VirginAmerica it's really aggressive to blast...         NaN   \n",
       "4  @VirginAmerica and it's a really big bad thing...         NaN   \n",
       "\n",
       "               tweet_created tweet_location               user_timezone  \n",
       "0  2015-02-24 11:35:52 -0800            NaN  Eastern Time (US & Canada)  \n",
       "1  2015-02-24 11:15:59 -0800            NaN  Pacific Time (US & Canada)  \n",
       "2  2015-02-24 11:15:48 -0800      Lets Play  Central Time (US & Canada)  \n",
       "3  2015-02-24 11:15:36 -0800            NaN  Pacific Time (US & Canada)  \n",
       "4  2015-02-24 11:14:45 -0800            NaN  Pacific Time (US & Canada)  "
      ]
     },
     "execution_count": 2,
     "metadata": {},
     "output_type": "execute_result"
    }
   ],
   "source": [
    "df = pd.read_csv('Tweets.csv')\n",
    "df.head()"
   ]
  },
  {
   "cell_type": "code",
   "execution_count": 3,
   "metadata": {},
   "outputs": [
    {
     "data": {
      "text/html": [
       "<div>\n",
       "<style scoped>\n",
       "    .dataframe tbody tr th:only-of-type {\n",
       "        vertical-align: middle;\n",
       "    }\n",
       "\n",
       "    .dataframe tbody tr th {\n",
       "        vertical-align: top;\n",
       "    }\n",
       "\n",
       "    .dataframe thead th {\n",
       "        text-align: right;\n",
       "    }\n",
       "</style>\n",
       "<table border=\"1\" class=\"dataframe\">\n",
       "  <thead>\n",
       "    <tr style=\"text-align: right;\">\n",
       "      <th></th>\n",
       "      <th>text</th>\n",
       "      <th>airline_sentiment</th>\n",
       "      <th>label</th>\n",
       "    </tr>\n",
       "  </thead>\n",
       "  <tbody>\n",
       "    <tr>\n",
       "      <th>0</th>\n",
       "      <td>@VirginAmerica What @dhepburn said.</td>\n",
       "      <td>neutral</td>\n",
       "      <td>0</td>\n",
       "    </tr>\n",
       "    <tr>\n",
       "      <th>1</th>\n",
       "      <td>@VirginAmerica plus you've added commercials t...</td>\n",
       "      <td>positive</td>\n",
       "      <td>0</td>\n",
       "    </tr>\n",
       "    <tr>\n",
       "      <th>2</th>\n",
       "      <td>@VirginAmerica I didn't today... Must mean I n...</td>\n",
       "      <td>neutral</td>\n",
       "      <td>0</td>\n",
       "    </tr>\n",
       "    <tr>\n",
       "      <th>3</th>\n",
       "      <td>@VirginAmerica it's really aggressive to blast...</td>\n",
       "      <td>negative</td>\n",
       "      <td>1</td>\n",
       "    </tr>\n",
       "    <tr>\n",
       "      <th>4</th>\n",
       "      <td>@VirginAmerica and it's a really big bad thing...</td>\n",
       "      <td>negative</td>\n",
       "      <td>1</td>\n",
       "    </tr>\n",
       "    <tr>\n",
       "      <th>...</th>\n",
       "      <td>...</td>\n",
       "      <td>...</td>\n",
       "      <td>...</td>\n",
       "    </tr>\n",
       "    <tr>\n",
       "      <th>14635</th>\n",
       "      <td>@AmericanAir thank you we got on a different f...</td>\n",
       "      <td>positive</td>\n",
       "      <td>0</td>\n",
       "    </tr>\n",
       "    <tr>\n",
       "      <th>14636</th>\n",
       "      <td>@AmericanAir leaving over 20 minutes Late Flig...</td>\n",
       "      <td>negative</td>\n",
       "      <td>1</td>\n",
       "    </tr>\n",
       "    <tr>\n",
       "      <th>14637</th>\n",
       "      <td>@AmericanAir Please bring American Airlines to...</td>\n",
       "      <td>neutral</td>\n",
       "      <td>0</td>\n",
       "    </tr>\n",
       "    <tr>\n",
       "      <th>14638</th>\n",
       "      <td>@AmericanAir you have my money, you change my ...</td>\n",
       "      <td>negative</td>\n",
       "      <td>1</td>\n",
       "    </tr>\n",
       "    <tr>\n",
       "      <th>14639</th>\n",
       "      <td>@AmericanAir we have 8 ppl so we need 2 know h...</td>\n",
       "      <td>neutral</td>\n",
       "      <td>0</td>\n",
       "    </tr>\n",
       "  </tbody>\n",
       "</table>\n",
       "<p>14640 rows × 3 columns</p>\n",
       "</div>"
      ],
      "text/plain": [
       "                                                    text airline_sentiment  \\\n",
       "0                    @VirginAmerica What @dhepburn said.           neutral   \n",
       "1      @VirginAmerica plus you've added commercials t...          positive   \n",
       "2      @VirginAmerica I didn't today... Must mean I n...           neutral   \n",
       "3      @VirginAmerica it's really aggressive to blast...          negative   \n",
       "4      @VirginAmerica and it's a really big bad thing...          negative   \n",
       "...                                                  ...               ...   \n",
       "14635  @AmericanAir thank you we got on a different f...          positive   \n",
       "14636  @AmericanAir leaving over 20 minutes Late Flig...          negative   \n",
       "14637  @AmericanAir Please bring American Airlines to...           neutral   \n",
       "14638  @AmericanAir you have my money, you change my ...          negative   \n",
       "14639  @AmericanAir we have 8 ppl so we need 2 know h...           neutral   \n",
       "\n",
       "       label  \n",
       "0          0  \n",
       "1          0  \n",
       "2          0  \n",
       "3          1  \n",
       "4          1  \n",
       "...      ...  \n",
       "14635      0  \n",
       "14636      1  \n",
       "14637      0  \n",
       "14638      1  \n",
       "14639      0  \n",
       "\n",
       "[14640 rows x 3 columns]"
      ]
     },
     "execution_count": 3,
     "metadata": {},
     "output_type": "execute_result"
    }
   ],
   "source": [
    "# label\n",
    "# 0: positive or neutral\n",
    "# 1: negative\n",
    "\n",
    "df['label'] = np.where(df['airline_sentiment']=='negative', 1, 0)\n",
    "df = df[['text', 'airline_sentiment', 'label']]\n",
    "df"
   ]
  },
  {
   "cell_type": "code",
   "execution_count": 4,
   "metadata": {},
   "outputs": [
    {
     "data": {
      "text/plain": [
       "1    9178\n",
       "0    5462\n",
       "Name: label, dtype: int64"
      ]
     },
     "execution_count": 4,
     "metadata": {},
     "output_type": "execute_result"
    }
   ],
   "source": [
    "df['label'].value_counts()\n",
    "\n",
    "# 0: positive or neutral\n",
    "# 1: negative"
   ]
  },
  {
   "attachments": {},
   "cell_type": "markdown",
   "metadata": {},
   "source": [
    "### 0. Hapus mention"
   ]
  },
  {
   "cell_type": "code",
   "execution_count": 5,
   "metadata": {},
   "outputs": [
    {
     "data": {
      "text/plain": [
       "'@VirginAmerica did you know that suicide is the second leading cause of death among teens 10-24'"
      ]
     },
     "execution_count": 5,
     "metadata": {},
     "output_type": "execute_result"
    }
   ],
   "source": [
    "text = df['text'][10]\n",
    "text"
   ]
  },
  {
   "cell_type": "code",
   "execution_count": 6,
   "metadata": {},
   "outputs": [
    {
     "data": {
      "text/plain": [
       "['did',\n",
       " 'you',\n",
       " 'know',\n",
       " 'that',\n",
       " 'suicide',\n",
       " 'is',\n",
       " 'the',\n",
       " 'second',\n",
       " 'leading',\n",
       " 'cause',\n",
       " 'of',\n",
       " 'death',\n",
       " 'among',\n",
       " 'teens',\n",
       " '10-24']"
      ]
     },
     "execution_count": 6,
     "metadata": {},
     "output_type": "execute_result"
    }
   ],
   "source": [
    "[kata for kata in text.split() if not kata.__contains__('@')]"
   ]
  },
  {
   "cell_type": "code",
   "execution_count": 7,
   "metadata": {},
   "outputs": [],
   "source": [
    "def remove_mention(text):\n",
    "    hasil = ' '.join([kata for kata in text.split() if not kata.__contains__('@')])\n",
    "    return hasil"
   ]
  },
  {
   "cell_type": "code",
   "execution_count": 8,
   "metadata": {},
   "outputs": [
    {
     "data": {
      "text/plain": [
       "'did you know that suicide is the second leading cause of death among teens 10-24'"
      ]
     },
     "execution_count": 8,
     "metadata": {},
     "output_type": "execute_result"
    }
   ],
   "source": [
    "remove_mention(text)"
   ]
  },
  {
   "cell_type": "markdown",
   "metadata": {},
   "source": [
    "### 1. Lowercase"
   ]
  },
  {
   "cell_type": "code",
   "execution_count": 9,
   "metadata": {},
   "outputs": [
    {
     "data": {
      "text/plain": [
       "\"i don't know about you, but i'm feeling 22\""
      ]
     },
     "execution_count": 9,
     "metadata": {},
     "output_type": "execute_result"
    }
   ],
   "source": [
    "contoh = \"I don't know about you, but I'm feeling 22\"\n",
    "contoh.lower()"
   ]
  },
  {
   "cell_type": "code",
   "execution_count": 10,
   "metadata": {},
   "outputs": [],
   "source": [
    "def to_lower(text):\n",
    "    return text.lower()"
   ]
  },
  {
   "cell_type": "code",
   "execution_count": 11,
   "metadata": {},
   "outputs": [
    {
     "data": {
      "text/plain": [
       "\"i don't know about you, but i'm feeling 22\""
      ]
     },
     "execution_count": 11,
     "metadata": {},
     "output_type": "execute_result"
    }
   ],
   "source": [
    "to_lower(contoh)"
   ]
  },
  {
   "cell_type": "markdown",
   "metadata": {},
   "source": [
    "### 2. Remove contraction"
   ]
  },
  {
   "cell_type": "code",
   "execution_count": 12,
   "metadata": {},
   "outputs": [],
   "source": [
    "contractions_dict = {    \n",
    "    \"ain't\": \"am not\",\n",
    "    \"aren't\": \"are not\",\n",
    "    \"can't\": \"cannot\",\n",
    "    \"can't've\": \"cannot have\",\n",
    "    \"'cause\": \"because\",\n",
    "    \"could've\": \"could have\",\n",
    "    \"couldn't\": \"could not\",\n",
    "    \"couldn't've\": \"could not have\",\n",
    "    \"didn't\": \"did not\",\n",
    "    \"doesn't\": \"does not\",\n",
    "    \"don't\": \"do not\",\n",
    "    \"hadn't\": \"had not\",\n",
    "    \"hadn't've\": \"had not have\",\n",
    "    \"hasn't\": \"has not\",\n",
    "    \"haven't\": \"have not\",\n",
    "    \"he'd\": \"he had\",\n",
    "    \"he'd've\": \"he would have\",\n",
    "    \"he'll\": \"he will\",\n",
    "    \"he'll've\": \"he will have\",\n",
    "    \"he's\": \"he is\",\n",
    "    \"how'd\": \"how did\",\n",
    "    \"how'd'y\": \"how do you\",\n",
    "    \"how'll\": \"how will\",\n",
    "    \"how's\": \"how is\",\n",
    "    \"i'd\": \"i had\",\n",
    "    \"i'd've\": \"i would have\",\n",
    "    \"i'll\": \"i will\",\n",
    "    \"i'll've\": \"i will have\",\n",
    "    \"i'm\": \"i am\",\n",
    "    \"i've\": \"i have\",\n",
    "    \"isn't\": \"is not\",\n",
    "    \"it'd\": \"it had\",\n",
    "    \"it'd've\": \"it would have\",\n",
    "    \"it'll\": \"it will\",\n",
    "    \"it'll've\": \"iit will have\",\n",
    "    \"it's\": \"it is\",\n",
    "    \"let's\": \"let us\",\n",
    "    \"ma'am\": \"madam\",\n",
    "    \"mayn't\": \"may not\",\n",
    "    \"might've\": \"might have\",\n",
    "    \"mightn't\": \"might not\",\n",
    "    \"mightn't've\": \"might not have\",\n",
    "    \"must've\": \"must have\",\n",
    "    \"mustn't\": \"must not\",\n",
    "    \"mustn't've\": \"must not have\",\n",
    "    \"needn't\": \"need not\",\n",
    "    \"needn't've\": \"need not have\",\n",
    "    \"o'clock\": \"of the clock\",\n",
    "    \"oughtn't\": \"ought not\",\n",
    "    \"oughtn't've\": \"ought not have\",\n",
    "    \"shan't\": \"shall not\",\n",
    "    \"sha'n't\": \"shall not\",\n",
    "    \"shan't've\": \"shall not have\",\n",
    "    \"she'd\": \"she had\",\n",
    "    \"she'd've\": \"she would have\",\n",
    "    \"she'll\": \"she will\",\n",
    "    \"she'll've\": \"she will have\",\n",
    "    \"she's\": \"she is\",\n",
    "    \"should've\": \"should have\",\n",
    "    \"shouldn't\": \"should not\",\n",
    "    \"shouldn't've\": \"should not have\",\n",
    "    \"so've\": \"so have\",\n",
    "    \"so's\": \"so is\",\n",
    "    \"that'd\": \"that had\",\n",
    "    \"that'd've\": \"that would have\",\n",
    "    \"that's\": \"that is\",\n",
    "    \"there'd\": \"there had\",\n",
    "    \"there'd've\": \"there would have\",\n",
    "    \"there's\": \"there is\",\n",
    "    \"they'd\": \"they had\",\n",
    "    \"they'd've\": \"they would have\",\n",
    "    \"they'll\": \"they will\",\n",
    "    \"they'll've\": \"they will have\",\n",
    "    \"they're\": \"they are\",\n",
    "    \"they've\": \"they have\",\n",
    "    \"to've\": \"to have\",\n",
    "    \"wasn't\": \"was not\",\n",
    "    \"we'd\": \"we had\",\n",
    "    \"we'd've\": \"we would have\",\n",
    "    \"we'll\": \"we will\",\n",
    "    \"we'll've\": \"we will have\",\n",
    "    \"we're\": \"we are\",\n",
    "    \"we've\": \"we have\",\n",
    "    \"weren't\": \"were not\",\n",
    "    \"what'll\": \"what will\",\n",
    "    \"what'll've\": \"what will have\",\n",
    "    \"what're\": \"what are\",\n",
    "    \"what's\": \"what is\",\n",
    "    \"what've\": \"what have\",\n",
    "    \"when's\": \"when is\",\n",
    "    \"when've\": \"when have\",\n",
    "    \"where'd\": \"where did\",\n",
    "    \"where's\": \"where is\",\n",
    "    \"where've\": \"where have\",\n",
    "    \"who'll\": \"who will\",\n",
    "    \"who'll've\": \"who will have\",\n",
    "    \"who's\": \"who is\",\n",
    "    \"who've\": \"who have\",\n",
    "    \"why's\": \"why is\",\n",
    "    \"why've\": \"why have\",\n",
    "    \"will've\": \"will have\",\n",
    "    \"won't\": \"will not\",\n",
    "    \"won't've\": \"will not have\",\n",
    "    \"would've\": \"would have\",\n",
    "    \"wouldn't\": \"would not\",\n",
    "    \"wouldn't've\": \"would not have\",\n",
    "    \"y'all\": \"you all\",\n",
    "    \"y'all'd\": \"you all would\",\n",
    "    \"y'all'd've\": \"you all would have\",\n",
    "    \"y'all're\": \"you all are\",\n",
    "    \"y'all've\": \"you all have\",\n",
    "    \"you'd\": \"you had\",\n",
    "    \"you'd've\": \"you would have\",\n",
    "    \"you'll\": \"you will\",\n",
    "    \"you'll've\": \"you will have\",\n",
    "    \"you're\": \"you are\",\n",
    "    \"you've\": \"you have\"\n",
    "}"
   ]
  },
  {
   "cell_type": "code",
   "execution_count": 13,
   "metadata": {},
   "outputs": [
    {
     "data": {
      "text/plain": [
       "\"i don't know about you, but i'm feeling 22\""
      ]
     },
     "execution_count": 13,
     "metadata": {},
     "output_type": "execute_result"
    }
   ],
   "source": [
    "contoh = \"i don't know about you, but i'm feeling 22\"\n",
    "contoh\n",
    "\n",
    "# ubah don't menjadi do not dan i'm menjadi i am"
   ]
  },
  {
   "cell_type": "code",
   "execution_count": 14,
   "metadata": {},
   "outputs": [
    {
     "name": "stdout",
     "output_type": "stream",
     "text": [
      "i do not know about you, but i am feeling 22\n"
     ]
    }
   ],
   "source": [
    "# cara Mary\n",
    "for key, value in contractions_dict.items():\n",
    "    contoh = contoh.replace(key, value)\n",
    "\n",
    "print(contoh)\n"
   ]
  },
  {
   "cell_type": "code",
   "execution_count": 15,
   "metadata": {},
   "outputs": [],
   "source": [
    "# cara Eca\n",
    "def remove_contraction(text):\n",
    "\n",
    "    list_kata = text.split()\n",
    "    list_hasil = []\n",
    "\n",
    "    for kata in list_kata:\n",
    "\n",
    "        if kata in contractions_dict.keys():\n",
    "            list_hasil.append(contractions_dict[kata])\n",
    "        else:\n",
    "            list_hasil.append(kata)\n",
    "\n",
    "    hasil = ' '.join(list_hasil)\n",
    "    return hasil "
   ]
  },
  {
   "cell_type": "code",
   "execution_count": 16,
   "metadata": {},
   "outputs": [
    {
     "data": {
      "text/plain": [
       "'i do not know about you, but i am feeling 22'"
      ]
     },
     "execution_count": 16,
     "metadata": {},
     "output_type": "execute_result"
    }
   ],
   "source": [
    "remove_contraction(contoh)"
   ]
  },
  {
   "cell_type": "markdown",
   "metadata": {},
   "source": [
    "### 3. Remove number"
   ]
  },
  {
   "cell_type": "code",
   "execution_count": 17,
   "metadata": {},
   "outputs": [
    {
     "data": {
      "text/plain": [
       "True"
      ]
     },
     "execution_count": 17,
     "metadata": {},
     "output_type": "execute_result"
    }
   ],
   "source": [
    "kata = '48'\n",
    "kata.isnumeric()"
   ]
  },
  {
   "cell_type": "code",
   "execution_count": 18,
   "metadata": {},
   "outputs": [
    {
     "data": {
      "text/plain": [
       "'i do not know about you, but i am feeling 22'"
      ]
     },
     "execution_count": 18,
     "metadata": {},
     "output_type": "execute_result"
    }
   ],
   "source": [
    "contoh = 'i do not know about you, but i am feeling 22'\n",
    "contoh "
   ]
  },
  {
   "cell_type": "code",
   "execution_count": 19,
   "metadata": {},
   "outputs": [
    {
     "data": {
      "text/plain": [
       "'i do not know about you, but i am feeling '"
      ]
     },
     "execution_count": 19,
     "metadata": {},
     "output_type": "execute_result"
    }
   ],
   "source": [
    "# menghapus angka\n",
    "''.join([char for char in contoh if not char.isnumeric()])"
   ]
  },
  {
   "cell_type": "code",
   "execution_count": 20,
   "metadata": {},
   "outputs": [],
   "source": [
    "def remove_number(text):\n",
    "    hasil = ''.join([char for char in text if not char.isnumeric()])\n",
    "    return hasil"
   ]
  },
  {
   "cell_type": "code",
   "execution_count": 21,
   "metadata": {},
   "outputs": [
    {
     "data": {
      "text/plain": [
       "'i do not know about you, but i am feeling '"
      ]
     },
     "execution_count": 21,
     "metadata": {},
     "output_type": "execute_result"
    }
   ],
   "source": [
    "remove_number(contoh)"
   ]
  },
  {
   "cell_type": "markdown",
   "metadata": {},
   "source": [
    "### 4. Remove punctuation"
   ]
  },
  {
   "cell_type": "code",
   "execution_count": 22,
   "metadata": {},
   "outputs": [],
   "source": [
    "from string import punctuation"
   ]
  },
  {
   "cell_type": "code",
   "execution_count": 23,
   "metadata": {},
   "outputs": [
    {
     "data": {
      "text/plain": [
       "'!\"#$%&\\'()*+,-./:;<=>?@[\\\\]^_`{|}~'"
      ]
     },
     "execution_count": 23,
     "metadata": {},
     "output_type": "execute_result"
    }
   ],
   "source": [
    "punctuation"
   ]
  },
  {
   "cell_type": "code",
   "execution_count": 24,
   "metadata": {},
   "outputs": [
    {
     "data": {
      "text/plain": [
       "'i do not know about you, but i am feeling '"
      ]
     },
     "execution_count": 24,
     "metadata": {},
     "output_type": "execute_result"
    }
   ],
   "source": [
    "contoh = 'i do not know about you, but i am feeling '\n",
    "contoh"
   ]
  },
  {
   "cell_type": "code",
   "execution_count": 25,
   "metadata": {},
   "outputs": [
    {
     "data": {
      "text/plain": [
       "'i do not know about you but i am feeling '"
      ]
     },
     "execution_count": 25,
     "metadata": {},
     "output_type": "execute_result"
    }
   ],
   "source": [
    "# menghapus tanda baca\n",
    "''.join([char for char in contoh if not char in punctuation])"
   ]
  },
  {
   "cell_type": "code",
   "execution_count": 26,
   "metadata": {},
   "outputs": [],
   "source": [
    "def remove_punctuation(text):\n",
    "    hasil = ''.join([char for char in text if not char in punctuation])\n",
    "    return hasil"
   ]
  },
  {
   "cell_type": "code",
   "execution_count": 27,
   "metadata": {},
   "outputs": [
    {
     "data": {
      "text/plain": [
       "'i do not know about you but i am feeling '"
      ]
     },
     "execution_count": 27,
     "metadata": {},
     "output_type": "execute_result"
    }
   ],
   "source": [
    "remove_punctuation(contoh)"
   ]
  },
  {
   "cell_type": "markdown",
   "metadata": {},
   "source": [
    "### 5. Remove stopwords"
   ]
  },
  {
   "cell_type": "code",
   "execution_count": 28,
   "metadata": {},
   "outputs": [],
   "source": [
    "# pip install nltk"
   ]
  },
  {
   "cell_type": "code",
   "execution_count": 29,
   "metadata": {},
   "outputs": [],
   "source": [
    "import nltk\n",
    "from nltk.corpus import stopwords"
   ]
  },
  {
   "cell_type": "code",
   "execution_count": 30,
   "metadata": {},
   "outputs": [
    {
     "name": "stderr",
     "output_type": "stream",
     "text": [
      "[nltk_data] Downloading package stopwords to\n",
      "[nltk_data]     C:\\Users\\Abi\\AppData\\Roaming\\nltk_data...\n",
      "[nltk_data]   Package stopwords is already up-to-date!\n",
      "[nltk_data] Downloading package punkt to\n",
      "[nltk_data]     C:\\Users\\Abi\\AppData\\Roaming\\nltk_data...\n",
      "[nltk_data]   Package punkt is already up-to-date!\n"
     ]
    },
    {
     "data": {
      "text/plain": [
       "True"
      ]
     },
     "execution_count": 30,
     "metadata": {},
     "output_type": "execute_result"
    }
   ],
   "source": [
    "nltk.download('stopwords')\n",
    "nltk.download('punkt') "
   ]
  },
  {
   "cell_type": "code",
   "execution_count": 31,
   "metadata": {},
   "outputs": [],
   "source": [
    "stop_words = stopwords.words('english')"
   ]
  },
  {
   "cell_type": "code",
   "execution_count": 32,
   "metadata": {},
   "outputs": [],
   "source": [
    "# 'not' tidak dianggap sebagai stopwords\n",
    "stop_words.remove('not')"
   ]
  },
  {
   "cell_type": "code",
   "execution_count": 33,
   "metadata": {},
   "outputs": [],
   "source": [
    "contoh = 'i do not know about you but i am feeling '"
   ]
  },
  {
   "cell_type": "code",
   "execution_count": 34,
   "metadata": {},
   "outputs": [
    {
     "data": {
      "text/plain": [
       "['not', 'know', 'feeling']"
      ]
     },
     "execution_count": 34,
     "metadata": {},
     "output_type": "execute_result"
    }
   ],
   "source": [
    "[kata for kata in contoh.split() if kata not in stop_words]"
   ]
  },
  {
   "cell_type": "code",
   "execution_count": 35,
   "metadata": {},
   "outputs": [],
   "source": [
    "def remove_stopwords(text):\n",
    "    hasil = ' '.join([kata for kata in text.split() if kata not in stop_words])\n",
    "    return hasil "
   ]
  },
  {
   "cell_type": "code",
   "execution_count": 36,
   "metadata": {},
   "outputs": [
    {
     "data": {
      "text/plain": [
       "'not know feeling'"
      ]
     },
     "execution_count": 36,
     "metadata": {},
     "output_type": "execute_result"
    }
   ],
   "source": [
    "remove_stopwords(contoh)"
   ]
  },
  {
   "cell_type": "code",
   "execution_count": 37,
   "metadata": {},
   "outputs": [
    {
     "data": {
      "text/plain": [
       "['i', 'do', 'not', 'know', 'about', 'you', 'but', 'i', 'am', 'feeling']"
      ]
     },
     "execution_count": 37,
     "metadata": {},
     "output_type": "execute_result"
    }
   ],
   "source": [
    "# mirip dengan fungsi split()\n",
    "nltk.word_tokenize(contoh) "
   ]
  },
  {
   "cell_type": "markdown",
   "metadata": {},
   "source": [
    "### 6. Remove whitespace"
   ]
  },
  {
   "cell_type": "code",
   "execution_count": 38,
   "metadata": {},
   "outputs": [
    {
     "data": {
      "text/plain": [
       "'not know feeling'"
      ]
     },
     "execution_count": 38,
     "metadata": {},
     "output_type": "execute_result"
    }
   ],
   "source": [
    "contoh = '  not know     feeling      '\n",
    "\n",
    "' '.join(contoh.split())"
   ]
  },
  {
   "cell_type": "code",
   "execution_count": 39,
   "metadata": {},
   "outputs": [],
   "source": [
    "def remove_whitespace(text):\n",
    "    hasil = ' '.join(text.split())\n",
    "    return hasil"
   ]
  },
  {
   "cell_type": "code",
   "execution_count": 40,
   "metadata": {},
   "outputs": [
    {
     "data": {
      "text/plain": [
       "'not know feeling'"
      ]
     },
     "execution_count": 40,
     "metadata": {},
     "output_type": "execute_result"
    }
   ],
   "source": [
    "remove_whitespace(contoh)"
   ]
  },
  {
   "cell_type": "markdown",
   "metadata": {},
   "source": [
    "### Combine all steps"
   ]
  },
  {
   "cell_type": "code",
   "execution_count": 41,
   "metadata": {},
   "outputs": [
    {
     "data": {
      "text/html": [
       "<div>\n",
       "<style scoped>\n",
       "    .dataframe tbody tr th:only-of-type {\n",
       "        vertical-align: middle;\n",
       "    }\n",
       "\n",
       "    .dataframe tbody tr th {\n",
       "        vertical-align: top;\n",
       "    }\n",
       "\n",
       "    .dataframe thead th {\n",
       "        text-align: right;\n",
       "    }\n",
       "</style>\n",
       "<table border=\"1\" class=\"dataframe\">\n",
       "  <thead>\n",
       "    <tr style=\"text-align: right;\">\n",
       "      <th></th>\n",
       "      <th>text</th>\n",
       "      <th>airline_sentiment</th>\n",
       "      <th>label</th>\n",
       "      <th>prep0</th>\n",
       "      <th>prep1</th>\n",
       "      <th>prep2</th>\n",
       "      <th>prep3</th>\n",
       "      <th>prep4</th>\n",
       "      <th>prep5</th>\n",
       "      <th>prep6</th>\n",
       "    </tr>\n",
       "  </thead>\n",
       "  <tbody>\n",
       "    <tr>\n",
       "      <th>0</th>\n",
       "      <td>@VirginAmerica What @dhepburn said.</td>\n",
       "      <td>neutral</td>\n",
       "      <td>0</td>\n",
       "      <td>What said.</td>\n",
       "      <td>what said.</td>\n",
       "      <td>what said.</td>\n",
       "      <td>what said.</td>\n",
       "      <td>what said</td>\n",
       "      <td>said</td>\n",
       "      <td>said</td>\n",
       "    </tr>\n",
       "    <tr>\n",
       "      <th>1</th>\n",
       "      <td>@VirginAmerica plus you've added commercials t...</td>\n",
       "      <td>positive</td>\n",
       "      <td>0</td>\n",
       "      <td>plus you've added commercials to the experienc...</td>\n",
       "      <td>plus you've added commercials to the experienc...</td>\n",
       "      <td>plus you have added commercials to the experie...</td>\n",
       "      <td>plus you have added commercials to the experie...</td>\n",
       "      <td>plus you have added commercials to the experie...</td>\n",
       "      <td>plus added commercials experience tacky</td>\n",
       "      <td>plus added commercials experience tacky</td>\n",
       "    </tr>\n",
       "    <tr>\n",
       "      <th>2</th>\n",
       "      <td>@VirginAmerica I didn't today... Must mean I n...</td>\n",
       "      <td>neutral</td>\n",
       "      <td>0</td>\n",
       "      <td>I didn't today... Must mean I need to take ano...</td>\n",
       "      <td>i didn't today... must mean i need to take ano...</td>\n",
       "      <td>i did not today... must mean i need to take an...</td>\n",
       "      <td>i did not today... must mean i need to take an...</td>\n",
       "      <td>i did not today must mean i need to take anoth...</td>\n",
       "      <td>not today must mean need take another trip</td>\n",
       "      <td>not today must mean need take another trip</td>\n",
       "    </tr>\n",
       "    <tr>\n",
       "      <th>3</th>\n",
       "      <td>@VirginAmerica it's really aggressive to blast...</td>\n",
       "      <td>negative</td>\n",
       "      <td>1</td>\n",
       "      <td>it's really aggressive to blast obnoxious \"ent...</td>\n",
       "      <td>it's really aggressive to blast obnoxious \"ent...</td>\n",
       "      <td>it is really aggressive to blast obnoxious \"en...</td>\n",
       "      <td>it is really aggressive to blast obnoxious \"en...</td>\n",
       "      <td>it is really aggressive to blast obnoxious ent...</td>\n",
       "      <td>really aggressive blast obnoxious entertainmen...</td>\n",
       "      <td>really aggressive blast obnoxious entertainmen...</td>\n",
       "    </tr>\n",
       "    <tr>\n",
       "      <th>4</th>\n",
       "      <td>@VirginAmerica and it's a really big bad thing...</td>\n",
       "      <td>negative</td>\n",
       "      <td>1</td>\n",
       "      <td>and it's a really big bad thing about it</td>\n",
       "      <td>and it's a really big bad thing about it</td>\n",
       "      <td>and it is a really big bad thing about it</td>\n",
       "      <td>and it is a really big bad thing about it</td>\n",
       "      <td>and it is a really big bad thing about it</td>\n",
       "      <td>really big bad thing</td>\n",
       "      <td>really big bad thing</td>\n",
       "    </tr>\n",
       "  </tbody>\n",
       "</table>\n",
       "</div>"
      ],
      "text/plain": [
       "                                                text airline_sentiment  label  \\\n",
       "0                @VirginAmerica What @dhepburn said.           neutral      0   \n",
       "1  @VirginAmerica plus you've added commercials t...          positive      0   \n",
       "2  @VirginAmerica I didn't today... Must mean I n...           neutral      0   \n",
       "3  @VirginAmerica it's really aggressive to blast...          negative      1   \n",
       "4  @VirginAmerica and it's a really big bad thing...          negative      1   \n",
       "\n",
       "                                               prep0  \\\n",
       "0                                         What said.   \n",
       "1  plus you've added commercials to the experienc...   \n",
       "2  I didn't today... Must mean I need to take ano...   \n",
       "3  it's really aggressive to blast obnoxious \"ent...   \n",
       "4           and it's a really big bad thing about it   \n",
       "\n",
       "                                               prep1  \\\n",
       "0                                         what said.   \n",
       "1  plus you've added commercials to the experienc...   \n",
       "2  i didn't today... must mean i need to take ano...   \n",
       "3  it's really aggressive to blast obnoxious \"ent...   \n",
       "4           and it's a really big bad thing about it   \n",
       "\n",
       "                                               prep2  \\\n",
       "0                                         what said.   \n",
       "1  plus you have added commercials to the experie...   \n",
       "2  i did not today... must mean i need to take an...   \n",
       "3  it is really aggressive to blast obnoxious \"en...   \n",
       "4          and it is a really big bad thing about it   \n",
       "\n",
       "                                               prep3  \\\n",
       "0                                         what said.   \n",
       "1  plus you have added commercials to the experie...   \n",
       "2  i did not today... must mean i need to take an...   \n",
       "3  it is really aggressive to blast obnoxious \"en...   \n",
       "4          and it is a really big bad thing about it   \n",
       "\n",
       "                                               prep4  \\\n",
       "0                                          what said   \n",
       "1  plus you have added commercials to the experie...   \n",
       "2  i did not today must mean i need to take anoth...   \n",
       "3  it is really aggressive to blast obnoxious ent...   \n",
       "4          and it is a really big bad thing about it   \n",
       "\n",
       "                                               prep5  \\\n",
       "0                                               said   \n",
       "1            plus added commercials experience tacky   \n",
       "2         not today must mean need take another trip   \n",
       "3  really aggressive blast obnoxious entertainmen...   \n",
       "4                               really big bad thing   \n",
       "\n",
       "                                               prep6  \n",
       "0                                               said  \n",
       "1            plus added commercials experience tacky  \n",
       "2         not today must mean need take another trip  \n",
       "3  really aggressive blast obnoxious entertainmen...  \n",
       "4                               really big bad thing  "
      ]
     },
     "execution_count": 41,
     "metadata": {},
     "output_type": "execute_result"
    }
   ],
   "source": [
    "df['prep0'] = df['text'].apply(remove_mention)\n",
    "df['prep1'] = df['prep0'].apply(to_lower)\n",
    "df['prep2'] = df['prep1'].apply(remove_contraction)\n",
    "df['prep3'] = df['prep2'].apply(remove_number)\n",
    "df['prep4'] = df['prep3'].apply(remove_punctuation)\n",
    "df['prep5'] = df['prep4'].apply(remove_stopwords)\n",
    "df['prep6'] = df['prep5'].apply(remove_whitespace)\n",
    "\n",
    "df.head()"
   ]
  },
  {
   "cell_type": "code",
   "execution_count": 42,
   "metadata": {},
   "outputs": [],
   "source": [
    "def combine_cleaning(your_series):\n",
    "\n",
    "    df['prep0'] = df['text'].apply(remove_mention)\n",
    "    df['prep1'] = df['prep0'].apply(to_lower)\n",
    "    df['prep2'] = df['prep1'].apply(remove_contraction)\n",
    "    df['prep3'] = df['prep2'].apply(remove_number)\n",
    "    df['prep4'] = df['prep3'].apply(remove_punctuation)\n",
    "    df['prep5'] = df['prep4'].apply(remove_stopwords)\n",
    "    df['prep6'] = df['prep5'].apply(remove_whitespace)\n",
    "\n",
    "    return df"
   ]
  },
  {
   "cell_type": "code",
   "execution_count": 43,
   "metadata": {},
   "outputs": [
    {
     "data": {
      "text/html": [
       "<div>\n",
       "<style scoped>\n",
       "    .dataframe tbody tr th:only-of-type {\n",
       "        vertical-align: middle;\n",
       "    }\n",
       "\n",
       "    .dataframe tbody tr th {\n",
       "        vertical-align: top;\n",
       "    }\n",
       "\n",
       "    .dataframe thead th {\n",
       "        text-align: right;\n",
       "    }\n",
       "</style>\n",
       "<table border=\"1\" class=\"dataframe\">\n",
       "  <thead>\n",
       "    <tr style=\"text-align: right;\">\n",
       "      <th></th>\n",
       "      <th>text</th>\n",
       "      <th>airline_sentiment</th>\n",
       "      <th>label</th>\n",
       "      <th>prep0</th>\n",
       "      <th>prep1</th>\n",
       "      <th>prep2</th>\n",
       "      <th>prep3</th>\n",
       "      <th>prep4</th>\n",
       "      <th>prep5</th>\n",
       "      <th>prep6</th>\n",
       "    </tr>\n",
       "  </thead>\n",
       "  <tbody>\n",
       "    <tr>\n",
       "      <th>0</th>\n",
       "      <td>@VirginAmerica What @dhepburn said.</td>\n",
       "      <td>neutral</td>\n",
       "      <td>0</td>\n",
       "      <td>What said.</td>\n",
       "      <td>what said.</td>\n",
       "      <td>what said.</td>\n",
       "      <td>what said.</td>\n",
       "      <td>what said</td>\n",
       "      <td>said</td>\n",
       "      <td>said</td>\n",
       "    </tr>\n",
       "    <tr>\n",
       "      <th>1</th>\n",
       "      <td>@VirginAmerica plus you've added commercials t...</td>\n",
       "      <td>positive</td>\n",
       "      <td>0</td>\n",
       "      <td>plus you've added commercials to the experienc...</td>\n",
       "      <td>plus you've added commercials to the experienc...</td>\n",
       "      <td>plus you have added commercials to the experie...</td>\n",
       "      <td>plus you have added commercials to the experie...</td>\n",
       "      <td>plus you have added commercials to the experie...</td>\n",
       "      <td>plus added commercials experience tacky</td>\n",
       "      <td>plus added commercials experience tacky</td>\n",
       "    </tr>\n",
       "    <tr>\n",
       "      <th>2</th>\n",
       "      <td>@VirginAmerica I didn't today... Must mean I n...</td>\n",
       "      <td>neutral</td>\n",
       "      <td>0</td>\n",
       "      <td>I didn't today... Must mean I need to take ano...</td>\n",
       "      <td>i didn't today... must mean i need to take ano...</td>\n",
       "      <td>i did not today... must mean i need to take an...</td>\n",
       "      <td>i did not today... must mean i need to take an...</td>\n",
       "      <td>i did not today must mean i need to take anoth...</td>\n",
       "      <td>not today must mean need take another trip</td>\n",
       "      <td>not today must mean need take another trip</td>\n",
       "    </tr>\n",
       "    <tr>\n",
       "      <th>3</th>\n",
       "      <td>@VirginAmerica it's really aggressive to blast...</td>\n",
       "      <td>negative</td>\n",
       "      <td>1</td>\n",
       "      <td>it's really aggressive to blast obnoxious \"ent...</td>\n",
       "      <td>it's really aggressive to blast obnoxious \"ent...</td>\n",
       "      <td>it is really aggressive to blast obnoxious \"en...</td>\n",
       "      <td>it is really aggressive to blast obnoxious \"en...</td>\n",
       "      <td>it is really aggressive to blast obnoxious ent...</td>\n",
       "      <td>really aggressive blast obnoxious entertainmen...</td>\n",
       "      <td>really aggressive blast obnoxious entertainmen...</td>\n",
       "    </tr>\n",
       "    <tr>\n",
       "      <th>4</th>\n",
       "      <td>@VirginAmerica and it's a really big bad thing...</td>\n",
       "      <td>negative</td>\n",
       "      <td>1</td>\n",
       "      <td>and it's a really big bad thing about it</td>\n",
       "      <td>and it's a really big bad thing about it</td>\n",
       "      <td>and it is a really big bad thing about it</td>\n",
       "      <td>and it is a really big bad thing about it</td>\n",
       "      <td>and it is a really big bad thing about it</td>\n",
       "      <td>really big bad thing</td>\n",
       "      <td>really big bad thing</td>\n",
       "    </tr>\n",
       "    <tr>\n",
       "      <th>...</th>\n",
       "      <td>...</td>\n",
       "      <td>...</td>\n",
       "      <td>...</td>\n",
       "      <td>...</td>\n",
       "      <td>...</td>\n",
       "      <td>...</td>\n",
       "      <td>...</td>\n",
       "      <td>...</td>\n",
       "      <td>...</td>\n",
       "      <td>...</td>\n",
       "    </tr>\n",
       "    <tr>\n",
       "      <th>14635</th>\n",
       "      <td>@AmericanAir thank you we got on a different f...</td>\n",
       "      <td>positive</td>\n",
       "      <td>0</td>\n",
       "      <td>thank you we got on a different flight to Chic...</td>\n",
       "      <td>thank you we got on a different flight to chic...</td>\n",
       "      <td>thank you we got on a different flight to chic...</td>\n",
       "      <td>thank you we got on a different flight to chic...</td>\n",
       "      <td>thank you we got on a different flight to chicago</td>\n",
       "      <td>thank got different flight chicago</td>\n",
       "      <td>thank got different flight chicago</td>\n",
       "    </tr>\n",
       "    <tr>\n",
       "      <th>14636</th>\n",
       "      <td>@AmericanAir leaving over 20 minutes Late Flig...</td>\n",
       "      <td>negative</td>\n",
       "      <td>1</td>\n",
       "      <td>leaving over 20 minutes Late Flight. No warnin...</td>\n",
       "      <td>leaving over 20 minutes late flight. no warnin...</td>\n",
       "      <td>leaving over 20 minutes late flight. no warnin...</td>\n",
       "      <td>leaving over  minutes late flight. no warnings...</td>\n",
       "      <td>leaving over  minutes late flight no warnings ...</td>\n",
       "      <td>leaving minutes late flight warnings communica...</td>\n",
       "      <td>leaving minutes late flight warnings communica...</td>\n",
       "    </tr>\n",
       "    <tr>\n",
       "      <th>14637</th>\n",
       "      <td>@AmericanAir Please bring American Airlines to...</td>\n",
       "      <td>neutral</td>\n",
       "      <td>0</td>\n",
       "      <td>Please bring American Airlines to #BlackBerry10</td>\n",
       "      <td>please bring american airlines to #blackberry10</td>\n",
       "      <td>please bring american airlines to #blackberry10</td>\n",
       "      <td>please bring american airlines to #blackberry</td>\n",
       "      <td>please bring american airlines to blackberry</td>\n",
       "      <td>please bring american airlines blackberry</td>\n",
       "      <td>please bring american airlines blackberry</td>\n",
       "    </tr>\n",
       "    <tr>\n",
       "      <th>14638</th>\n",
       "      <td>@AmericanAir you have my money, you change my ...</td>\n",
       "      <td>negative</td>\n",
       "      <td>1</td>\n",
       "      <td>you have my money, you change my flight, and d...</td>\n",
       "      <td>you have my money, you change my flight, and d...</td>\n",
       "      <td>you have my money, you change my flight, and d...</td>\n",
       "      <td>you have my money, you change my flight, and d...</td>\n",
       "      <td>you have my money you change my flight and do ...</td>\n",
       "      <td>money change flight not answer phones suggesti...</td>\n",
       "      <td>money change flight not answer phones suggesti...</td>\n",
       "    </tr>\n",
       "    <tr>\n",
       "      <th>14639</th>\n",
       "      <td>@AmericanAir we have 8 ppl so we need 2 know h...</td>\n",
       "      <td>neutral</td>\n",
       "      <td>0</td>\n",
       "      <td>we have 8 ppl so we need 2 know how many seats...</td>\n",
       "      <td>we have 8 ppl so we need 2 know how many seats...</td>\n",
       "      <td>we have 8 ppl so we need 2 know how many seats...</td>\n",
       "      <td>we have  ppl so we need  know how many seats a...</td>\n",
       "      <td>we have  ppl so we need  know how many seats a...</td>\n",
       "      <td>ppl need know many seats next flight plz put u...</td>\n",
       "      <td>ppl need know many seats next flight plz put u...</td>\n",
       "    </tr>\n",
       "  </tbody>\n",
       "</table>\n",
       "<p>14640 rows × 10 columns</p>\n",
       "</div>"
      ],
      "text/plain": [
       "                                                    text airline_sentiment  \\\n",
       "0                    @VirginAmerica What @dhepburn said.           neutral   \n",
       "1      @VirginAmerica plus you've added commercials t...          positive   \n",
       "2      @VirginAmerica I didn't today... Must mean I n...           neutral   \n",
       "3      @VirginAmerica it's really aggressive to blast...          negative   \n",
       "4      @VirginAmerica and it's a really big bad thing...          negative   \n",
       "...                                                  ...               ...   \n",
       "14635  @AmericanAir thank you we got on a different f...          positive   \n",
       "14636  @AmericanAir leaving over 20 minutes Late Flig...          negative   \n",
       "14637  @AmericanAir Please bring American Airlines to...           neutral   \n",
       "14638  @AmericanAir you have my money, you change my ...          negative   \n",
       "14639  @AmericanAir we have 8 ppl so we need 2 know h...           neutral   \n",
       "\n",
       "       label                                              prep0  \\\n",
       "0          0                                         What said.   \n",
       "1          0  plus you've added commercials to the experienc...   \n",
       "2          0  I didn't today... Must mean I need to take ano...   \n",
       "3          1  it's really aggressive to blast obnoxious \"ent...   \n",
       "4          1           and it's a really big bad thing about it   \n",
       "...      ...                                                ...   \n",
       "14635      0  thank you we got on a different flight to Chic...   \n",
       "14636      1  leaving over 20 minutes Late Flight. No warnin...   \n",
       "14637      0    Please bring American Airlines to #BlackBerry10   \n",
       "14638      1  you have my money, you change my flight, and d...   \n",
       "14639      0  we have 8 ppl so we need 2 know how many seats...   \n",
       "\n",
       "                                                   prep1  \\\n",
       "0                                             what said.   \n",
       "1      plus you've added commercials to the experienc...   \n",
       "2      i didn't today... must mean i need to take ano...   \n",
       "3      it's really aggressive to blast obnoxious \"ent...   \n",
       "4               and it's a really big bad thing about it   \n",
       "...                                                  ...   \n",
       "14635  thank you we got on a different flight to chic...   \n",
       "14636  leaving over 20 minutes late flight. no warnin...   \n",
       "14637    please bring american airlines to #blackberry10   \n",
       "14638  you have my money, you change my flight, and d...   \n",
       "14639  we have 8 ppl so we need 2 know how many seats...   \n",
       "\n",
       "                                                   prep2  \\\n",
       "0                                             what said.   \n",
       "1      plus you have added commercials to the experie...   \n",
       "2      i did not today... must mean i need to take an...   \n",
       "3      it is really aggressive to blast obnoxious \"en...   \n",
       "4              and it is a really big bad thing about it   \n",
       "...                                                  ...   \n",
       "14635  thank you we got on a different flight to chic...   \n",
       "14636  leaving over 20 minutes late flight. no warnin...   \n",
       "14637    please bring american airlines to #blackberry10   \n",
       "14638  you have my money, you change my flight, and d...   \n",
       "14639  we have 8 ppl so we need 2 know how many seats...   \n",
       "\n",
       "                                                   prep3  \\\n",
       "0                                             what said.   \n",
       "1      plus you have added commercials to the experie...   \n",
       "2      i did not today... must mean i need to take an...   \n",
       "3      it is really aggressive to blast obnoxious \"en...   \n",
       "4              and it is a really big bad thing about it   \n",
       "...                                                  ...   \n",
       "14635  thank you we got on a different flight to chic...   \n",
       "14636  leaving over  minutes late flight. no warnings...   \n",
       "14637      please bring american airlines to #blackberry   \n",
       "14638  you have my money, you change my flight, and d...   \n",
       "14639  we have  ppl so we need  know how many seats a...   \n",
       "\n",
       "                                                   prep4  \\\n",
       "0                                              what said   \n",
       "1      plus you have added commercials to the experie...   \n",
       "2      i did not today must mean i need to take anoth...   \n",
       "3      it is really aggressive to blast obnoxious ent...   \n",
       "4              and it is a really big bad thing about it   \n",
       "...                                                  ...   \n",
       "14635  thank you we got on a different flight to chicago   \n",
       "14636  leaving over  minutes late flight no warnings ...   \n",
       "14637       please bring american airlines to blackberry   \n",
       "14638  you have my money you change my flight and do ...   \n",
       "14639  we have  ppl so we need  know how many seats a...   \n",
       "\n",
       "                                                   prep5  \\\n",
       "0                                                   said   \n",
       "1                plus added commercials experience tacky   \n",
       "2             not today must mean need take another trip   \n",
       "3      really aggressive blast obnoxious entertainmen...   \n",
       "4                                   really big bad thing   \n",
       "...                                                  ...   \n",
       "14635                 thank got different flight chicago   \n",
       "14636  leaving minutes late flight warnings communica...   \n",
       "14637          please bring american airlines blackberry   \n",
       "14638  money change flight not answer phones suggesti...   \n",
       "14639  ppl need know many seats next flight plz put u...   \n",
       "\n",
       "                                                   prep6  \n",
       "0                                                   said  \n",
       "1                plus added commercials experience tacky  \n",
       "2             not today must mean need take another trip  \n",
       "3      really aggressive blast obnoxious entertainmen...  \n",
       "4                                   really big bad thing  \n",
       "...                                                  ...  \n",
       "14635                 thank got different flight chicago  \n",
       "14636  leaving minutes late flight warnings communica...  \n",
       "14637          please bring american airlines blackberry  \n",
       "14638  money change flight not answer phones suggesti...  \n",
       "14639  ppl need know many seats next flight plz put u...  \n",
       "\n",
       "[14640 rows x 10 columns]"
      ]
     },
     "execution_count": 43,
     "metadata": {},
     "output_type": "execute_result"
    }
   ],
   "source": [
    "combine_cleaning(df['text'])"
   ]
  },
  {
   "cell_type": "code",
   "execution_count": 44,
   "metadata": {},
   "outputs": [],
   "source": [
    "# pip install currency-symbols"
   ]
  },
  {
   "cell_type": "code",
   "execution_count": 45,
   "metadata": {},
   "outputs": [],
   "source": [
    "# from currency_symbols import CurrencySymbols"
   ]
  },
  {
   "cell_type": "code",
   "execution_count": 46,
   "metadata": {},
   "outputs": [],
   "source": [
    "# CurrencySymbols.get_symbol('EUR')\n",
    "# CurrencySymbols.get_symbol('IDR')"
   ]
  },
  {
   "cell_type": "markdown",
   "metadata": {},
   "source": [
    "## Preprocessing Part 2\n",
    "\n",
    "Mengubah kata menjadi kata dasar.\n",
    "\n",
    "Pilihan:\n",
    "- Stemming\n",
    "- Lemmatization"
   ]
  },
  {
   "cell_type": "code",
   "execution_count": 47,
   "metadata": {},
   "outputs": [],
   "source": [
    "from nltk.stem import SnowballStemmer, WordNetLemmatizer "
   ]
  },
  {
   "cell_type": "markdown",
   "metadata": {},
   "source": [
    "### Stemming"
   ]
  },
  {
   "cell_type": "code",
   "execution_count": 48,
   "metadata": {},
   "outputs": [
    {
     "data": {
      "text/plain": [
       "'care caring cared car'"
      ]
     },
     "execution_count": 48,
     "metadata": {},
     "output_type": "execute_result"
    }
   ],
   "source": [
    "stemmer = SnowballStemmer('english')\n",
    "\n",
    "kata = 'care caring cared carefully'\n",
    "\n",
    "stemmer.stem(kata)"
   ]
  },
  {
   "cell_type": "code",
   "execution_count": 49,
   "metadata": {},
   "outputs": [
    {
     "data": {
      "text/plain": [
       "['care', 'caring', 'cared', 'carefully']"
      ]
     },
     "execution_count": 49,
     "metadata": {},
     "output_type": "execute_result"
    }
   ],
   "source": [
    "nltk.word_tokenize(kata)"
   ]
  },
  {
   "cell_type": "code",
   "execution_count": 50,
   "metadata": {},
   "outputs": [
    {
     "data": {
      "text/plain": [
       "['care', 'care', 'care', 'care']"
      ]
     },
     "execution_count": 50,
     "metadata": {},
     "output_type": "execute_result"
    }
   ],
   "source": [
    "[stemmer.stem(i) for i in nltk.word_tokenize(kata)]"
   ]
  },
  {
   "cell_type": "code",
   "execution_count": 51,
   "metadata": {},
   "outputs": [
    {
     "data": {
      "text/plain": [
       "'said'"
      ]
     },
     "execution_count": 51,
     "metadata": {},
     "output_type": "execute_result"
    }
   ],
   "source": [
    "df['prep6'][0]"
   ]
  },
  {
   "cell_type": "code",
   "execution_count": 52,
   "metadata": {},
   "outputs": [
    {
     "data": {
      "text/plain": [
       "'said'"
      ]
     },
     "execution_count": 52,
     "metadata": {},
     "output_type": "execute_result"
    }
   ],
   "source": [
    "text = df['prep6'][0]\n",
    "list_hasil = []\n",
    "\n",
    "for sentence in nltk.sent_tokenize(text):   # pecah paragraf menjadi kalimat-kalimat\n",
    "    for word in nltk.word_tokenize(sentence): # pecah kalimat menjadi kata-kata\n",
    "        list_hasil.append(stemmer.stem(word))   # ubah kata ke kata dasarnya\n",
    "\n",
    "hasil = ' '.join(list_hasil)\n",
    "hasil "
   ]
  },
  {
   "cell_type": "code",
   "execution_count": 53,
   "metadata": {},
   "outputs": [],
   "source": [
    "def stem(text):\n",
    "\n",
    "    list_hasil = []\n",
    "\n",
    "    for sentence in nltk.sent_tokenize(text):   # pecah paragraf menjadi kalimat-kalimat\n",
    "        for word in nltk.word_tokenize(sentence): # pecah kalimat menjadi kata-kata\n",
    "            list_hasil.append(stemmer.stem(word))   # ubah kata ke kata dasarnya\n",
    "\n",
    "    hasil = ' '.join(list_hasil)\n",
    "    return hasil "
   ]
  },
  {
   "cell_type": "code",
   "execution_count": 54,
   "metadata": {},
   "outputs": [
    {
     "data": {
      "text/plain": [
       "'said'"
      ]
     },
     "execution_count": 54,
     "metadata": {},
     "output_type": "execute_result"
    }
   ],
   "source": [
    "stem(df['prep6'][0])"
   ]
  },
  {
   "cell_type": "markdown",
   "metadata": {},
   "source": [
    "## Lemmatization"
   ]
  },
  {
   "cell_type": "code",
   "execution_count": 55,
   "metadata": {},
   "outputs": [
    {
     "name": "stderr",
     "output_type": "stream",
     "text": [
      "[nltk_data] Downloading package wordnet to\n",
      "[nltk_data]     C:\\Users\\Abi\\AppData\\Roaming\\nltk_data...\n",
      "[nltk_data]   Package wordnet is already up-to-date!\n"
     ]
    },
    {
     "data": {
      "text/plain": [
       "True"
      ]
     },
     "execution_count": 55,
     "metadata": {},
     "output_type": "execute_result"
    }
   ],
   "source": [
    "nltk.download('wordnet')"
   ]
  },
  {
   "cell_type": "code",
   "execution_count": 56,
   "metadata": {},
   "outputs": [
    {
     "data": {
      "text/plain": [
       "['care', 'care', 'cared', 'caring', 'carefully']"
      ]
     },
     "execution_count": 56,
     "metadata": {},
     "output_type": "execute_result"
    }
   ],
   "source": [
    "lemmatizer = WordNetLemmatizer()\n",
    "\n",
    "kata = 'care cares cared caring carefully'\n",
    "\n",
    "[lemmatizer.lemmatize(i) for i in nltk.word_tokenize(kata)] "
   ]
  },
  {
   "cell_type": "code",
   "execution_count": 57,
   "metadata": {},
   "outputs": [],
   "source": [
    "def lemmatize(text):\n",
    "\n",
    "    list_hasil = []\n",
    "\n",
    "    for sentence in nltk.sent_tokenize(text):   # pecah paragraf menjadi kalimat-kalimat\n",
    "        for word in nltk.word_tokenize(sentence): # pecah kalimat menjadi kata-kata\n",
    "            list_hasil.append(lemmatizer.lemmatize(word))   # ubah kata ke kata dasarnya\n",
    "\n",
    "    hasil = ' '.join(list_hasil)\n",
    "    return hasil "
   ]
  },
  {
   "cell_type": "code",
   "execution_count": 58,
   "metadata": {},
   "outputs": [
    {
     "data": {
      "text/plain": [
       "'said'"
      ]
     },
     "execution_count": 58,
     "metadata": {},
     "output_type": "execute_result"
    }
   ],
   "source": [
    "lemmatize(df['prep6'][0])"
   ]
  },
  {
   "attachments": {},
   "cell_type": "markdown",
   "metadata": {},
   "source": [
    "---\n",
    "## Combine Preprocessing Part 1 & Part 2"
   ]
  },
  {
   "cell_type": "code",
   "execution_count": 59,
   "metadata": {},
   "outputs": [
    {
     "data": {
      "text/html": [
       "<div>\n",
       "<style scoped>\n",
       "    .dataframe tbody tr th:only-of-type {\n",
       "        vertical-align: middle;\n",
       "    }\n",
       "\n",
       "    .dataframe tbody tr th {\n",
       "        vertical-align: top;\n",
       "    }\n",
       "\n",
       "    .dataframe thead th {\n",
       "        text-align: right;\n",
       "    }\n",
       "</style>\n",
       "<table border=\"1\" class=\"dataframe\">\n",
       "  <thead>\n",
       "    <tr style=\"text-align: right;\">\n",
       "      <th></th>\n",
       "      <th>text</th>\n",
       "      <th>airline_sentiment</th>\n",
       "      <th>label</th>\n",
       "      <th>prep0</th>\n",
       "      <th>prep1</th>\n",
       "      <th>prep2</th>\n",
       "      <th>prep3</th>\n",
       "      <th>prep4</th>\n",
       "      <th>prep5</th>\n",
       "      <th>prep6</th>\n",
       "      <th>stem</th>\n",
       "      <th>lemmatize</th>\n",
       "    </tr>\n",
       "  </thead>\n",
       "  <tbody>\n",
       "    <tr>\n",
       "      <th>0</th>\n",
       "      <td>@VirginAmerica What @dhepburn said.</td>\n",
       "      <td>neutral</td>\n",
       "      <td>0</td>\n",
       "      <td>What said.</td>\n",
       "      <td>what said.</td>\n",
       "      <td>what said.</td>\n",
       "      <td>what said.</td>\n",
       "      <td>what said</td>\n",
       "      <td>said</td>\n",
       "      <td>said</td>\n",
       "      <td>said</td>\n",
       "      <td>said</td>\n",
       "    </tr>\n",
       "    <tr>\n",
       "      <th>1</th>\n",
       "      <td>@VirginAmerica plus you've added commercials t...</td>\n",
       "      <td>positive</td>\n",
       "      <td>0</td>\n",
       "      <td>plus you've added commercials to the experienc...</td>\n",
       "      <td>plus you've added commercials to the experienc...</td>\n",
       "      <td>plus you have added commercials to the experie...</td>\n",
       "      <td>plus you have added commercials to the experie...</td>\n",
       "      <td>plus you have added commercials to the experie...</td>\n",
       "      <td>plus added commercials experience tacky</td>\n",
       "      <td>plus added commercials experience tacky</td>\n",
       "      <td>plus ad commerci experi tacki</td>\n",
       "      <td>plus added commercial experience tacky</td>\n",
       "    </tr>\n",
       "    <tr>\n",
       "      <th>2</th>\n",
       "      <td>@VirginAmerica I didn't today... Must mean I n...</td>\n",
       "      <td>neutral</td>\n",
       "      <td>0</td>\n",
       "      <td>I didn't today... Must mean I need to take ano...</td>\n",
       "      <td>i didn't today... must mean i need to take ano...</td>\n",
       "      <td>i did not today... must mean i need to take an...</td>\n",
       "      <td>i did not today... must mean i need to take an...</td>\n",
       "      <td>i did not today must mean i need to take anoth...</td>\n",
       "      <td>not today must mean need take another trip</td>\n",
       "      <td>not today must mean need take another trip</td>\n",
       "      <td>not today must mean need take anoth trip</td>\n",
       "      <td>not today must mean need take another trip</td>\n",
       "    </tr>\n",
       "    <tr>\n",
       "      <th>3</th>\n",
       "      <td>@VirginAmerica it's really aggressive to blast...</td>\n",
       "      <td>negative</td>\n",
       "      <td>1</td>\n",
       "      <td>it's really aggressive to blast obnoxious \"ent...</td>\n",
       "      <td>it's really aggressive to blast obnoxious \"ent...</td>\n",
       "      <td>it is really aggressive to blast obnoxious \"en...</td>\n",
       "      <td>it is really aggressive to blast obnoxious \"en...</td>\n",
       "      <td>it is really aggressive to blast obnoxious ent...</td>\n",
       "      <td>really aggressive blast obnoxious entertainmen...</td>\n",
       "      <td>really aggressive blast obnoxious entertainmen...</td>\n",
       "      <td>realli aggress blast obnoxi entertain guest fa...</td>\n",
       "      <td>really aggressive blast obnoxious entertainmen...</td>\n",
       "    </tr>\n",
       "    <tr>\n",
       "      <th>4</th>\n",
       "      <td>@VirginAmerica and it's a really big bad thing...</td>\n",
       "      <td>negative</td>\n",
       "      <td>1</td>\n",
       "      <td>and it's a really big bad thing about it</td>\n",
       "      <td>and it's a really big bad thing about it</td>\n",
       "      <td>and it is a really big bad thing about it</td>\n",
       "      <td>and it is a really big bad thing about it</td>\n",
       "      <td>and it is a really big bad thing about it</td>\n",
       "      <td>really big bad thing</td>\n",
       "      <td>really big bad thing</td>\n",
       "      <td>realli big bad thing</td>\n",
       "      <td>really big bad thing</td>\n",
       "    </tr>\n",
       "  </tbody>\n",
       "</table>\n",
       "</div>"
      ],
      "text/plain": [
       "                                                text airline_sentiment  label  \\\n",
       "0                @VirginAmerica What @dhepburn said.           neutral      0   \n",
       "1  @VirginAmerica plus you've added commercials t...          positive      0   \n",
       "2  @VirginAmerica I didn't today... Must mean I n...           neutral      0   \n",
       "3  @VirginAmerica it's really aggressive to blast...          negative      1   \n",
       "4  @VirginAmerica and it's a really big bad thing...          negative      1   \n",
       "\n",
       "                                               prep0  \\\n",
       "0                                         What said.   \n",
       "1  plus you've added commercials to the experienc...   \n",
       "2  I didn't today... Must mean I need to take ano...   \n",
       "3  it's really aggressive to blast obnoxious \"ent...   \n",
       "4           and it's a really big bad thing about it   \n",
       "\n",
       "                                               prep1  \\\n",
       "0                                         what said.   \n",
       "1  plus you've added commercials to the experienc...   \n",
       "2  i didn't today... must mean i need to take ano...   \n",
       "3  it's really aggressive to blast obnoxious \"ent...   \n",
       "4           and it's a really big bad thing about it   \n",
       "\n",
       "                                               prep2  \\\n",
       "0                                         what said.   \n",
       "1  plus you have added commercials to the experie...   \n",
       "2  i did not today... must mean i need to take an...   \n",
       "3  it is really aggressive to blast obnoxious \"en...   \n",
       "4          and it is a really big bad thing about it   \n",
       "\n",
       "                                               prep3  \\\n",
       "0                                         what said.   \n",
       "1  plus you have added commercials to the experie...   \n",
       "2  i did not today... must mean i need to take an...   \n",
       "3  it is really aggressive to blast obnoxious \"en...   \n",
       "4          and it is a really big bad thing about it   \n",
       "\n",
       "                                               prep4  \\\n",
       "0                                          what said   \n",
       "1  plus you have added commercials to the experie...   \n",
       "2  i did not today must mean i need to take anoth...   \n",
       "3  it is really aggressive to blast obnoxious ent...   \n",
       "4          and it is a really big bad thing about it   \n",
       "\n",
       "                                               prep5  \\\n",
       "0                                               said   \n",
       "1            plus added commercials experience tacky   \n",
       "2         not today must mean need take another trip   \n",
       "3  really aggressive blast obnoxious entertainmen...   \n",
       "4                               really big bad thing   \n",
       "\n",
       "                                               prep6  \\\n",
       "0                                               said   \n",
       "1            plus added commercials experience tacky   \n",
       "2         not today must mean need take another trip   \n",
       "3  really aggressive blast obnoxious entertainmen...   \n",
       "4                               really big bad thing   \n",
       "\n",
       "                                                stem  \\\n",
       "0                                               said   \n",
       "1                      plus ad commerci experi tacki   \n",
       "2           not today must mean need take anoth trip   \n",
       "3  realli aggress blast obnoxi entertain guest fa...   \n",
       "4                               realli big bad thing   \n",
       "\n",
       "                                           lemmatize  \n",
       "0                                               said  \n",
       "1             plus added commercial experience tacky  \n",
       "2         not today must mean need take another trip  \n",
       "3  really aggressive blast obnoxious entertainmen...  \n",
       "4                               really big bad thing  "
      ]
     },
     "execution_count": 59,
     "metadata": {},
     "output_type": "execute_result"
    }
   ],
   "source": [
    "df['stem'] = df['prep6'].apply(stem)\n",
    "df['lemmatize'] = df['prep6'].apply(lemmatize)\n",
    "\n",
    "df.head()"
   ]
  },
  {
   "cell_type": "markdown",
   "metadata": {},
   "source": [
    "## EDA (Text Exploration)"
   ]
  },
  {
   "cell_type": "markdown",
   "metadata": {},
   "source": [
    "### 1. Word Frequency"
   ]
  },
  {
   "cell_type": "code",
   "execution_count": 60,
   "metadata": {},
   "outputs": [
    {
     "data": {
      "text/plain": [
       "0                                                     said\n",
       "1                   plus added commercial experience tacky\n",
       "2               not today must mean need take another trip\n",
       "3        really aggressive blast obnoxious entertainmen...\n",
       "4                                     really big bad thing\n",
       "                               ...                        \n",
       "14635                   thank got different flight chicago\n",
       "14636    leaving minute late flight warning communicati...\n",
       "14637             please bring american airline blackberry\n",
       "14638    money change flight not answer phone suggestio...\n",
       "14639    ppl need know many seat next flight plz put u ...\n",
       "Name: lemmatize, Length: 14640, dtype: object"
      ]
     },
     "execution_count": 60,
     "metadata": {},
     "output_type": "execute_result"
    }
   ],
   "source": [
    "df['lemmatize']"
   ]
  },
  {
   "cell_type": "code",
   "execution_count": 61,
   "metadata": {},
   "outputs": [
    {
     "data": {
      "text/html": [
       "<div>\n",
       "<style scoped>\n",
       "    .dataframe tbody tr th:only-of-type {\n",
       "        vertical-align: middle;\n",
       "    }\n",
       "\n",
       "    .dataframe tbody tr th {\n",
       "        vertical-align: top;\n",
       "    }\n",
       "\n",
       "    .dataframe thead th {\n",
       "        text-align: right;\n",
       "    }\n",
       "</style>\n",
       "<table border=\"1\" class=\"dataframe\">\n",
       "  <thead>\n",
       "    <tr style=\"text-align: right;\">\n",
       "      <th></th>\n",
       "      <th>word</th>\n",
       "      <th>freq</th>\n",
       "    </tr>\n",
       "  </thead>\n",
       "  <tbody>\n",
       "    <tr>\n",
       "      <th>0</th>\n",
       "      <td>flight</td>\n",
       "      <td>4541</td>\n",
       "    </tr>\n",
       "    <tr>\n",
       "      <th>1</th>\n",
       "      <td>not</td>\n",
       "      <td>3641</td>\n",
       "    </tr>\n",
       "    <tr>\n",
       "      <th>2</th>\n",
       "      <td>get</td>\n",
       "      <td>1372</td>\n",
       "    </tr>\n",
       "    <tr>\n",
       "      <th>3</th>\n",
       "      <td>hour</td>\n",
       "      <td>1151</td>\n",
       "    </tr>\n",
       "    <tr>\n",
       "      <th>4</th>\n",
       "      <td>thanks</td>\n",
       "      <td>1072</td>\n",
       "    </tr>\n",
       "    <tr>\n",
       "      <th>5</th>\n",
       "      <td>u</td>\n",
       "      <td>1067</td>\n",
       "    </tr>\n",
       "    <tr>\n",
       "      <th>6</th>\n",
       "      <td>cancelled</td>\n",
       "      <td>1056</td>\n",
       "    </tr>\n",
       "    <tr>\n",
       "      <th>7</th>\n",
       "      <td>service</td>\n",
       "      <td>987</td>\n",
       "    </tr>\n",
       "    <tr>\n",
       "      <th>8</th>\n",
       "      <td>time</td>\n",
       "      <td>942</td>\n",
       "    </tr>\n",
       "    <tr>\n",
       "      <th>9</th>\n",
       "      <td>customer</td>\n",
       "      <td>930</td>\n",
       "    </tr>\n",
       "    <tr>\n",
       "      <th>10</th>\n",
       "      <td>help</td>\n",
       "      <td>861</td>\n",
       "    </tr>\n",
       "    <tr>\n",
       "      <th>11</th>\n",
       "      <td>bag</td>\n",
       "      <td>758</td>\n",
       "    </tr>\n",
       "    <tr>\n",
       "      <th>12</th>\n",
       "      <td>plane</td>\n",
       "      <td>719</td>\n",
       "    </tr>\n",
       "    <tr>\n",
       "      <th>13</th>\n",
       "      <td>amp</td>\n",
       "      <td>640</td>\n",
       "    </tr>\n",
       "    <tr>\n",
       "      <th>14</th>\n",
       "      <td>hold</td>\n",
       "      <td>640</td>\n",
       "    </tr>\n",
       "    <tr>\n",
       "      <th>15</th>\n",
       "      <td>need</td>\n",
       "      <td>631</td>\n",
       "    </tr>\n",
       "    <tr>\n",
       "      <th>16</th>\n",
       "      <td>would</td>\n",
       "      <td>608</td>\n",
       "    </tr>\n",
       "    <tr>\n",
       "      <th>17</th>\n",
       "      <td>thank</td>\n",
       "      <td>602</td>\n",
       "    </tr>\n",
       "    <tr>\n",
       "      <th>18</th>\n",
       "      <td>one</td>\n",
       "      <td>577</td>\n",
       "    </tr>\n",
       "    <tr>\n",
       "      <th>19</th>\n",
       "      <td>can</td>\n",
       "      <td>572</td>\n",
       "    </tr>\n",
       "  </tbody>\n",
       "</table>\n",
       "</div>"
      ],
      "text/plain": [
       "         word  freq\n",
       "0      flight  4541\n",
       "1         not  3641\n",
       "2         get  1372\n",
       "3        hour  1151\n",
       "4      thanks  1072\n",
       "5           u  1067\n",
       "6   cancelled  1056\n",
       "7     service   987\n",
       "8        time   942\n",
       "9    customer   930\n",
       "10       help   861\n",
       "11        bag   758\n",
       "12      plane   719\n",
       "13        amp   640\n",
       "14       hold   640\n",
       "15       need   631\n",
       "16      would   608\n",
       "17      thank   602\n",
       "18        one   577\n",
       "19        can   572"
      ]
     },
     "execution_count": 61,
     "metadata": {},
     "output_type": "execute_result"
    }
   ],
   "source": [
    "text = df['lemmatize']\n",
    "\n",
    "df_text = text.str.extractall('(\\w+)') # ambil tiap kata dari tiap document\n",
    "df_text = df_text.reset_index()\n",
    "\n",
    "df_unique = df_text[0].value_counts()\n",
    "df_unique = df_unique.to_frame().reset_index().rename(columns={'index':'word', 0:'freq'})\n",
    "\n",
    "df_unique.head(20)"
   ]
  },
  {
   "cell_type": "code",
   "execution_count": 62,
   "metadata": {},
   "outputs": [],
   "source": [
    "def word_freq(text):\n",
    "\n",
    "    df_text = text.str.extractall('(\\w+)') # ambil tiap kata dari tiap document\n",
    "    df_text = df_text.reset_index()\n",
    "\n",
    "    df_unique = df_text[0].value_counts()\n",
    "    df_unique = df_unique.to_frame().reset_index().rename(columns={'index':'word', 0:'freq'})\n",
    "\n",
    "    return df_unique"
   ]
  },
  {
   "cell_type": "code",
   "execution_count": 63,
   "metadata": {},
   "outputs": [
    {
     "data": {
      "image/png": "[encoded data removed]",
      "text/plain": [
       "<Figure size 432x288 with 1 Axes>"
      ]
     },
     "metadata": {
      "needs_background": "light"
     },
     "output_type": "display_data"
    }
   ],
   "source": [
    "# Top 10 most frequent words\n",
    "data = word_freq(df['lemmatize'])\n",
    "sns.barplot(data=data.head(10), x='freq', y='word');"
   ]
  },
  {
   "cell_type": "code",
   "execution_count": 64,
   "metadata": {},
   "outputs": [
    {
     "data": {
      "image/png": "[encoded data removed]",
      "text/plain": [
       "<Figure size 432x288 with 1 Axes>"
      ]
     },
     "metadata": {
      "needs_background": "light"
     },
     "output_type": "display_data"
    }
   ],
   "source": [
    "# Top 10 most frequent words in negative tweet (1) \n",
    "data = word_freq(df[df['label']==1]['lemmatize'])\n",
    "\n",
    "sns.barplot(data=data.head(10), x='freq', y='word', color='red')\n",
    "plt.title('Top 10 most frequent words in negative tweet (label 1)'); "
   ]
  },
  {
   "cell_type": "code",
   "execution_count": 65,
   "metadata": {},
   "outputs": [],
   "source": [
    "# df[(df['lemmatize'].str.contains('cancelled')) & (df['label']==1)]['lemmatize']"
   ]
  },
  {
   "cell_type": "code",
   "execution_count": 66,
   "metadata": {},
   "outputs": [
    {
     "data": {
      "image/png": "[encoded data removed]",
      "text/plain": [
       "<Figure size 432x288 with 1 Axes>"
      ]
     },
     "metadata": {
      "needs_background": "light"
     },
     "output_type": "display_data"
    }
   ],
   "source": [
    "# Top 10 most frequent words in positive or neutral tweet (0)\n",
    "data = word_freq(df[df['label']==0]['lemmatize'])\n",
    "\n",
    "sns.barplot(data=data.head(10), x='freq', y='word', color='blue')\n",
    "plt.title('Top 10 most frequent words in positive or neutral tweet (0)'); "
   ]
  },
  {
   "cell_type": "code",
   "execution_count": 67,
   "metadata": {},
   "outputs": [],
   "source": [
    "# df[(df['lemmatize'].str.contains('help')) & (df['label']==0)][['lemmatize', 'airline_sentiment']]"
   ]
  },
  {
   "attachments": {},
   "cell_type": "markdown",
   "metadata": {},
   "source": [
    "Summary:\n",
    "\n",
    "- Pada tweet negative banyak muncul kata: hour, cancelled, customer, service, time, bag\n",
    "    - Kemungkinan keyword 'hour', 'time' ini berkaitan dengan keterlambatan pesawat\n",
    "    - Kemungkinan keyword 'customer', 'service' ini berkaitan dengan pelayanan customer service yang tidak memuaskan\n",
    "    - Kemungkinan keyword 'cancelled' ini berkaitan dengan pembatalan penerbangan pesawat\n",
    "<br>\n",
    "<br>\n",
    "- Pada tweet neutral atau positive banyak muncul kata: thanks, great, help, please, service\n",
    "    - Kemungkinan keyword 'thanks', 'great',  ini berkaitan dengan pujian terhadap pelayanan dari maskapai\n",
    "    - Kemungkinan keyword 'help', 'please', 'service' ini berkaitan dengan pertanyaan atau minta tolong \n",
    "\n"
   ]
  },
  {
   "cell_type": "markdown",
   "metadata": {},
   "source": [
    "### 2. Length of Document"
   ]
  },
  {
   "cell_type": "code",
   "execution_count": 68,
   "metadata": {},
   "outputs": [],
   "source": [
    "# df['stem'].apply(len)"
   ]
  },
  {
   "cell_type": "code",
   "execution_count": 69,
   "metadata": {},
   "outputs": [
    {
     "data": {
      "text/html": [
       "<div>\n",
       "<style scoped>\n",
       "    .dataframe tbody tr th:only-of-type {\n",
       "        vertical-align: middle;\n",
       "    }\n",
       "\n",
       "    .dataframe tbody tr th {\n",
       "        vertical-align: top;\n",
       "    }\n",
       "\n",
       "    .dataframe thead th {\n",
       "        text-align: right;\n",
       "    }\n",
       "</style>\n",
       "<table border=\"1\" class=\"dataframe\">\n",
       "  <thead>\n",
       "    <tr style=\"text-align: right;\">\n",
       "      <th></th>\n",
       "      <th>text</th>\n",
       "      <th>airline_sentiment</th>\n",
       "      <th>label</th>\n",
       "      <th>prep0</th>\n",
       "      <th>prep1</th>\n",
       "      <th>prep2</th>\n",
       "      <th>prep3</th>\n",
       "      <th>prep4</th>\n",
       "      <th>prep5</th>\n",
       "      <th>prep6</th>\n",
       "      <th>stem</th>\n",
       "      <th>lemmatize</th>\n",
       "      <th>len_char</th>\n",
       "    </tr>\n",
       "  </thead>\n",
       "  <tbody>\n",
       "    <tr>\n",
       "      <th>0</th>\n",
       "      <td>@VirginAmerica What @dhepburn said.</td>\n",
       "      <td>neutral</td>\n",
       "      <td>0</td>\n",
       "      <td>What said.</td>\n",
       "      <td>what said.</td>\n",
       "      <td>what said.</td>\n",
       "      <td>what said.</td>\n",
       "      <td>what said</td>\n",
       "      <td>said</td>\n",
       "      <td>said</td>\n",
       "      <td>said</td>\n",
       "      <td>said</td>\n",
       "      <td>4</td>\n",
       "    </tr>\n",
       "    <tr>\n",
       "      <th>1</th>\n",
       "      <td>@VirginAmerica plus you've added commercials t...</td>\n",
       "      <td>positive</td>\n",
       "      <td>0</td>\n",
       "      <td>plus you've added commercials to the experienc...</td>\n",
       "      <td>plus you've added commercials to the experienc...</td>\n",
       "      <td>plus you have added commercials to the experie...</td>\n",
       "      <td>plus you have added commercials to the experie...</td>\n",
       "      <td>plus you have added commercials to the experie...</td>\n",
       "      <td>plus added commercials experience tacky</td>\n",
       "      <td>plus added commercials experience tacky</td>\n",
       "      <td>plus ad commerci experi tacki</td>\n",
       "      <td>plus added commercial experience tacky</td>\n",
       "      <td>38</td>\n",
       "    </tr>\n",
       "    <tr>\n",
       "      <th>2</th>\n",
       "      <td>@VirginAmerica I didn't today... Must mean I n...</td>\n",
       "      <td>neutral</td>\n",
       "      <td>0</td>\n",
       "      <td>I didn't today... Must mean I need to take ano...</td>\n",
       "      <td>i didn't today... must mean i need to take ano...</td>\n",
       "      <td>i did not today... must mean i need to take an...</td>\n",
       "      <td>i did not today... must mean i need to take an...</td>\n",
       "      <td>i did not today must mean i need to take anoth...</td>\n",
       "      <td>not today must mean need take another trip</td>\n",
       "      <td>not today must mean need take another trip</td>\n",
       "      <td>not today must mean need take anoth trip</td>\n",
       "      <td>not today must mean need take another trip</td>\n",
       "      <td>42</td>\n",
       "    </tr>\n",
       "    <tr>\n",
       "      <th>3</th>\n",
       "      <td>@VirginAmerica it's really aggressive to blast...</td>\n",
       "      <td>negative</td>\n",
       "      <td>1</td>\n",
       "      <td>it's really aggressive to blast obnoxious \"ent...</td>\n",
       "      <td>it's really aggressive to blast obnoxious \"ent...</td>\n",
       "      <td>it is really aggressive to blast obnoxious \"en...</td>\n",
       "      <td>it is really aggressive to blast obnoxious \"en...</td>\n",
       "      <td>it is really aggressive to blast obnoxious ent...</td>\n",
       "      <td>really aggressive blast obnoxious entertainmen...</td>\n",
       "      <td>really aggressive blast obnoxious entertainmen...</td>\n",
       "      <td>realli aggress blast obnoxi entertain guest fa...</td>\n",
       "      <td>really aggressive blast obnoxious entertainmen...</td>\n",
       "      <td>78</td>\n",
       "    </tr>\n",
       "    <tr>\n",
       "      <th>4</th>\n",
       "      <td>@VirginAmerica and it's a really big bad thing...</td>\n",
       "      <td>negative</td>\n",
       "      <td>1</td>\n",
       "      <td>and it's a really big bad thing about it</td>\n",
       "      <td>and it's a really big bad thing about it</td>\n",
       "      <td>and it is a really big bad thing about it</td>\n",
       "      <td>and it is a really big bad thing about it</td>\n",
       "      <td>and it is a really big bad thing about it</td>\n",
       "      <td>really big bad thing</td>\n",
       "      <td>really big bad thing</td>\n",
       "      <td>realli big bad thing</td>\n",
       "      <td>really big bad thing</td>\n",
       "      <td>20</td>\n",
       "    </tr>\n",
       "  </tbody>\n",
       "</table>\n",
       "</div>"
      ],
      "text/plain": [
       "                                                text airline_sentiment  label  \\\n",
       "0                @VirginAmerica What @dhepburn said.           neutral      0   \n",
       "1  @VirginAmerica plus you've added commercials t...          positive      0   \n",
       "2  @VirginAmerica I didn't today... Must mean I n...           neutral      0   \n",
       "3  @VirginAmerica it's really aggressive to blast...          negative      1   \n",
       "4  @VirginAmerica and it's a really big bad thing...          negative      1   \n",
       "\n",
       "                                               prep0  \\\n",
       "0                                         What said.   \n",
       "1  plus you've added commercials to the experienc...   \n",
       "2  I didn't today... Must mean I need to take ano...   \n",
       "3  it's really aggressive to blast obnoxious \"ent...   \n",
       "4           and it's a really big bad thing about it   \n",
       "\n",
       "                                               prep1  \\\n",
       "0                                         what said.   \n",
       "1  plus you've added commercials to the experienc...   \n",
       "2  i didn't today... must mean i need to take ano...   \n",
       "3  it's really aggressive to blast obnoxious \"ent...   \n",
       "4           and it's a really big bad thing about it   \n",
       "\n",
       "                                               prep2  \\\n",
       "0                                         what said.   \n",
       "1  plus you have added commercials to the experie...   \n",
       "2  i did not today... must mean i need to take an...   \n",
       "3  it is really aggressive to blast obnoxious \"en...   \n",
       "4          and it is a really big bad thing about it   \n",
       "\n",
       "                                               prep3  \\\n",
       "0                                         what said.   \n",
       "1  plus you have added commercials to the experie...   \n",
       "2  i did not today... must mean i need to take an...   \n",
       "3  it is really aggressive to blast obnoxious \"en...   \n",
       "4          and it is a really big bad thing about it   \n",
       "\n",
       "                                               prep4  \\\n",
       "0                                          what said   \n",
       "1  plus you have added commercials to the experie...   \n",
       "2  i did not today must mean i need to take anoth...   \n",
       "3  it is really aggressive to blast obnoxious ent...   \n",
       "4          and it is a really big bad thing about it   \n",
       "\n",
       "                                               prep5  \\\n",
       "0                                               said   \n",
       "1            plus added commercials experience tacky   \n",
       "2         not today must mean need take another trip   \n",
       "3  really aggressive blast obnoxious entertainmen...   \n",
       "4                               really big bad thing   \n",
       "\n",
       "                                               prep6  \\\n",
       "0                                               said   \n",
       "1            plus added commercials experience tacky   \n",
       "2         not today must mean need take another trip   \n",
       "3  really aggressive blast obnoxious entertainmen...   \n",
       "4                               really big bad thing   \n",
       "\n",
       "                                                stem  \\\n",
       "0                                               said   \n",
       "1                      plus ad commerci experi tacki   \n",
       "2           not today must mean need take anoth trip   \n",
       "3  realli aggress blast obnoxi entertain guest fa...   \n",
       "4                               realli big bad thing   \n",
       "\n",
       "                                           lemmatize  len_char  \n",
       "0                                               said         4  \n",
       "1             plus added commercial experience tacky        38  \n",
       "2         not today must mean need take another trip        42  \n",
       "3  really aggressive blast obnoxious entertainmen...        78  \n",
       "4                               really big bad thing        20  "
      ]
     },
     "execution_count": 69,
     "metadata": {},
     "output_type": "execute_result"
    }
   ],
   "source": [
    "df['len_char'] = df['lemmatize'].str.len()\n",
    "df.head()"
   ]
  },
  {
   "cell_type": "code",
   "execution_count": 70,
   "metadata": {},
   "outputs": [
    {
     "data": {
      "image/png": "[encoded data removed]",
      "text/plain": [
       "<Figure size 1152x360 with 1 Axes>"
      ]
     },
     "metadata": {
      "needs_background": "light"
     },
     "output_type": "display_data"
    }
   ],
   "source": [
    "plt.figure(figsize=(16,5))\n",
    "sns.histplot(data=df, x='len_char', hue='label');"
   ]
  },
  {
   "cell_type": "code",
   "execution_count": 71,
   "metadata": {},
   "outputs": [
    {
     "data": {
      "image/png": "[encoded data removed]",
      "text/plain": [
       "<Figure size 1152x360 with 1 Axes>"
      ]
     },
     "metadata": {
      "needs_background": "light"
     },
     "output_type": "display_data"
    }
   ],
   "source": [
    "df['label'] = df['label'].astype(str)\n",
    "\n",
    "plt.figure(figsize=(16,5))\n",
    "sns.boxenplot(data=df, x='len_char', y='label');"
   ]
  },
  {
   "cell_type": "code",
   "execution_count": 72,
   "metadata": {},
   "outputs": [],
   "source": [
    "df['label'] = df['label'].astype(int)"
   ]
  },
  {
   "attachments": {},
   "cell_type": "markdown",
   "metadata": {},
   "source": [
    "Summary:\n",
    "- Ada kecenderungan tweet dengan sentimen negatif lebih panjang jumlah karakternya"
   ]
  },
  {
   "attachments": {},
   "cell_type": "markdown",
   "metadata": {},
   "source": [
    "---\n",
    "\n",
    "## Classification\n",
    "\n",
    "Kita bekerja sebagai Data Scientist di maskapai penerbangan dan ditugaskan untuk mendeteksi tweet dgn sentimen negatif agar nantinya\n",
    "tweet tsb bisa segera dihandle oleh tim public relation (humas).\n",
    "\n",
    "- class 0: tweet dengan sentimen neutral/positive \n",
    "- class 1: tweet dengan sentimen negative \n",
    "<br>\n",
    "<br>\n",
    "- FP: ML memprediksi tweetnya bersentimen negatif, padahal aktualnya bersentimen positif\n",
    "- FN: ML memprediksi tweetnya bersentimen positif, padahal aktualnya bersentimen negatif\n",
    "<br>\n",
    "\n",
    "FN lebih berbahaya karena apabila ada tweet yg diprediksi bersentimen positif, kemudian tidak ada warning apapun, \n",
    "padahal tweet tsb bersentimen negatif (complain dll.), maka tujuan utamanya tidak tercapai.\n",
    "\n",
    "Apabila FP terjadi, ada sebuah tweet bersentimen positif/neutral, tapi diprediksi bersentimen negatif sehingga muncul warning,\n",
    "ini tidak masalah karena cons-nya hanya membuang waktu membaca tweet yg tidak perlu dihandle."
   ]
  },
  {
   "cell_type": "code",
   "execution_count": 100,
   "metadata": {},
   "outputs": [],
   "source": [
    "from sklearn.model_selection import train_test_split, cross_val_score, GridSearchCV, RandomizedSearchCV\n",
    "\n",
    "from imblearn.pipeline import Pipeline \n",
    "from imblearn.over_sampling import RandomOverSampler, SMOTE\n",
    "from imblearn.under_sampling import RandomUnderSampler, NearMiss\n",
    "\n",
    "from sklearn.feature_extraction.text import CountVectorizer, TfidfVectorizer\n",
    "\n",
    "from sklearn.tree import DecisionTreeClassifier\n",
    "from sklearn.metrics import f1_score, classification_report, confusion_matrix, plot_precision_recall_curve, recall_score, precision_score"
   ]
  },
  {
   "attachments": {},
   "cell_type": "markdown",
   "metadata": {},
   "source": [
    "### Clean Dataset "
   ]
  },
  {
   "cell_type": "code",
   "execution_count": 74,
   "metadata": {},
   "outputs": [
    {
     "data": {
      "text/html": [
       "<div>\n",
       "<style scoped>\n",
       "    .dataframe tbody tr th:only-of-type {\n",
       "        vertical-align: middle;\n",
       "    }\n",
       "\n",
       "    .dataframe tbody tr th {\n",
       "        vertical-align: top;\n",
       "    }\n",
       "\n",
       "    .dataframe thead th {\n",
       "        text-align: right;\n",
       "    }\n",
       "</style>\n",
       "<table border=\"1\" class=\"dataframe\">\n",
       "  <thead>\n",
       "    <tr style=\"text-align: right;\">\n",
       "      <th></th>\n",
       "      <th>lemmatize</th>\n",
       "      <th>airline_sentiment</th>\n",
       "      <th>label</th>\n",
       "    </tr>\n",
       "  </thead>\n",
       "  <tbody>\n",
       "    <tr>\n",
       "      <th>0</th>\n",
       "      <td>said</td>\n",
       "      <td>neutral</td>\n",
       "      <td>0</td>\n",
       "    </tr>\n",
       "    <tr>\n",
       "      <th>1</th>\n",
       "      <td>plus added commercial experience tacky</td>\n",
       "      <td>positive</td>\n",
       "      <td>0</td>\n",
       "    </tr>\n",
       "    <tr>\n",
       "      <th>2</th>\n",
       "      <td>not today must mean need take another trip</td>\n",
       "      <td>neutral</td>\n",
       "      <td>0</td>\n",
       "    </tr>\n",
       "    <tr>\n",
       "      <th>3</th>\n",
       "      <td>really aggressive blast obnoxious entertainmen...</td>\n",
       "      <td>negative</td>\n",
       "      <td>1</td>\n",
       "    </tr>\n",
       "    <tr>\n",
       "      <th>4</th>\n",
       "      <td>really big bad thing</td>\n",
       "      <td>negative</td>\n",
       "      <td>1</td>\n",
       "    </tr>\n",
       "  </tbody>\n",
       "</table>\n",
       "</div>"
      ],
      "text/plain": [
       "                                           lemmatize airline_sentiment  label\n",
       "0                                               said           neutral      0\n",
       "1             plus added commercial experience tacky          positive      0\n",
       "2         not today must mean need take another trip           neutral      0\n",
       "3  really aggressive blast obnoxious entertainmen...          negative      1\n",
       "4                               really big bad thing          negative      1"
      ]
     },
     "execution_count": 74,
     "metadata": {},
     "output_type": "execute_result"
    }
   ],
   "source": [
    "df_clean = df[['lemmatize', 'airline_sentiment', 'label']]\n",
    "df_clean.head()"
   ]
  },
  {
   "cell_type": "markdown",
   "metadata": {},
   "source": [
    "### Define text and y"
   ]
  },
  {
   "cell_type": "code",
   "execution_count": 75,
   "metadata": {},
   "outputs": [],
   "source": [
    "text = df_clean['lemmatize']\n",
    "y = df_clean['label']"
   ]
  },
  {
   "cell_type": "code",
   "execution_count": 76,
   "metadata": {},
   "outputs": [
    {
     "data": {
      "text/plain": [
       "1    0.626913\n",
       "0    0.373087\n",
       "Name: label, dtype: float64"
      ]
     },
     "execution_count": 76,
     "metadata": {},
     "output_type": "execute_result"
    }
   ],
   "source": [
    "y.value_counts() / len(y)"
   ]
  },
  {
   "cell_type": "markdown",
   "metadata": {},
   "source": [
    "### Data Splitting"
   ]
  },
  {
   "cell_type": "code",
   "execution_count": 77,
   "metadata": {},
   "outputs": [],
   "source": [
    "text_train, text_test, y_train, y_test = train_test_split(text, y, test_size=0.2, stratify=y, random_state=0)"
   ]
  },
  {
   "cell_type": "code",
   "execution_count": 78,
   "metadata": {},
   "outputs": [
    {
     "data": {
      "text/plain": [
       "2928"
      ]
     },
     "execution_count": 78,
     "metadata": {},
     "output_type": "execute_result"
    }
   ],
   "source": [
    "len(y_test)"
   ]
  },
  {
   "attachments": {},
   "cell_type": "markdown",
   "metadata": {},
   "source": [
    "### Benchmark Model\n",
    "\n",
    "Sebaiknya cari algoritma terbaik"
   ]
  },
  {
   "cell_type": "code",
   "execution_count": 87,
   "metadata": {},
   "outputs": [
    {
     "name": "stdout",
     "output_type": "stream",
     "text": [
      "[0.43362832 0.42818244 0.43324251 0.44959128 0.44482289]\n",
      "0.4378934862730768\n",
      "0.007987274232466436\n"
     ]
    }
   ],
   "source": [
    "# model\n",
    "model = DecisionTreeClassifier(max_depth=5)\n",
    "\n",
    "# vectorizer\n",
    "vectorizer = TfidfVectorizer(norm=None)\n",
    "\n",
    "# resampler\n",
    "resampler = SMOTE(random_state=0)\n",
    "\n",
    "# pipeline\n",
    "model_pipe = Pipeline([ \n",
    "    ('vectorizer', vectorizer),\n",
    "    ('resampler', resampler),\n",
    "    ('model', model)\n",
    "])\n",
    "\n",
    "# cross validation\n",
    "cv_score = cross_val_score(\n",
    "    model_pipe,\n",
    "    text_train,\n",
    "    y_train,\n",
    "    cv=5,\n",
    "    scoring='recall'\n",
    ")\n",
    "\n",
    "print(cv_score)\n",
    "print(cv_score.mean())\n",
    "print(cv_score.std())"
   ]
  },
  {
   "attachments": {},
   "cell_type": "markdown",
   "metadata": {},
   "source": [
    "## Hyperparameter Tuning"
   ]
  },
  {
   "cell_type": "code",
   "execution_count": 88,
   "metadata": {},
   "outputs": [],
   "source": [
    "vectorizer1 = CountVectorizer(ngram_range=(1,1))\n",
    "vectorizer2 = TfidfVectorizer(norm=None)"
   ]
  },
  {
   "cell_type": "code",
   "execution_count": 89,
   "metadata": {},
   "outputs": [],
   "source": [
    "# hyperparam space Decision Tree\n",
    "hyperparam_space = {\n",
    "    'model__max_depth': range(2,30),\n",
    "    'model__min_samples_leaf': range(2,1000,2),\n",
    "    'model__min_samples_split': range(2,1000,2),\n",
    "    'vectorizer': [vectorizer1, vectorizer2],\n",
    "    'resampler': [SMOTE(), NearMiss()]\n",
    "}\n",
    "\n",
    "# pipeline\n",
    "model_pipe = Pipeline([ \n",
    "    ('vectorizer', vectorizer1),\n",
    "    ('resampler',resampler),\n",
    "    ('model', model)\n",
    "])\n",
    "\n",
    "# randomized search\n",
    "random_search = RandomizedSearchCV(\n",
    "    estimator= model_pipe,\n",
    "    param_distributions= hyperparam_space,\n",
    "    scoring='recall',\n",
    "    cv=5,\n",
    "    random_state=0,\n",
    "    n_jobs=-1,\n",
    "    n_iter= 200\n",
    ")"
   ]
  },
  {
   "cell_type": "code",
   "execution_count": 90,
   "metadata": {},
   "outputs": [
    {
     "data": {
      "text/html": [
       "<style>#sk-container-id-1 {color: black;background-color: white;}#sk-container-id-1 pre{padding: 0;}#sk-container-id-1 div.sk-toggleable {background-color: white;}#sk-container-id-1 label.sk-toggleable__label {cursor: pointer;display: block;width: 100%;margin-bottom: 0;padding: 0.3em;box-sizing: border-box;text-align: center;}#sk-container-id-1 label.sk-toggleable__label-arrow:before {content: \"▸\";float: left;margin-right: 0.25em;color: #696969;}#sk-container-id-1 label.sk-toggleable__label-arrow:hover:before {color: black;}#sk-container-id-1 div.sk-estimator:hover label.sk-toggleable__label-arrow:before {color: black;}#sk-container-id-1 div.sk-toggleable__content {max-height: 0;max-width: 0;overflow: hidden;text-align: left;background-color: #f0f8ff;}#sk-container-id-1 div.sk-toggleable__content pre {margin: 0.2em;color: black;border-radius: 0.25em;background-color: #f0f8ff;}#sk-container-id-1 input.sk-toggleable__control:checked~div.sk-toggleable__content {max-height: 200px;max-width: 100%;overflow: auto;}#sk-container-id-1 input.sk-toggleable__control:checked~label.sk-toggleable__label-arrow:before {content: \"▾\";}#sk-container-id-1 div.sk-estimator input.sk-toggleable__control:checked~label.sk-toggleable__label {background-color: #d4ebff;}#sk-container-id-1 div.sk-label input.sk-toggleable__control:checked~label.sk-toggleable__label {background-color: #d4ebff;}#sk-container-id-1 input.sk-hidden--visually {border: 0;clip: rect(1px 1px 1px 1px);clip: rect(1px, 1px, 1px, 1px);height: 1px;margin: -1px;overflow: hidden;padding: 0;position: absolute;width: 1px;}#sk-container-id-1 div.sk-estimator {font-family: monospace;background-color: #f0f8ff;border: 1px dotted black;border-radius: 0.25em;box-sizing: border-box;margin-bottom: 0.5em;}#sk-container-id-1 div.sk-estimator:hover {background-color: #d4ebff;}#sk-container-id-1 div.sk-parallel-item::after {content: \"\";width: 100%;border-bottom: 1px solid gray;flex-grow: 1;}#sk-container-id-1 div.sk-label:hover label.sk-toggleable__label {background-color: #d4ebff;}#sk-container-id-1 div.sk-serial::before {content: \"\";position: absolute;border-left: 1px solid gray;box-sizing: border-box;top: 0;bottom: 0;left: 50%;z-index: 0;}#sk-container-id-1 div.sk-serial {display: flex;flex-direction: column;align-items: center;background-color: white;padding-right: 0.2em;padding-left: 0.2em;position: relative;}#sk-container-id-1 div.sk-item {position: relative;z-index: 1;}#sk-container-id-1 div.sk-parallel {display: flex;align-items: stretch;justify-content: center;background-color: white;position: relative;}#sk-container-id-1 div.sk-item::before, #sk-container-id-1 div.sk-parallel-item::before {content: \"\";position: absolute;border-left: 1px solid gray;box-sizing: border-box;top: 0;bottom: 0;left: 50%;z-index: -1;}#sk-container-id-1 div.sk-parallel-item {display: flex;flex-direction: column;z-index: 1;position: relative;background-color: white;}#sk-container-id-1 div.sk-parallel-item:first-child::after {align-self: flex-end;width: 50%;}#sk-container-id-1 div.sk-parallel-item:last-child::after {align-self: flex-start;width: 50%;}#sk-container-id-1 div.sk-parallel-item:only-child::after {width: 0;}#sk-container-id-1 div.sk-dashed-wrapped {border: 1px dashed gray;margin: 0 0.4em 0.5em 0.4em;box-sizing: border-box;padding-bottom: 0.4em;background-color: white;}#sk-container-id-1 div.sk-label label {font-family: monospace;font-weight: bold;display: inline-block;line-height: 1.2em;}#sk-container-id-1 div.sk-label-container {text-align: center;}#sk-container-id-1 div.sk-container {/* jupyter's `normalize.less` sets `[hidden] { display: none; }` but bootstrap.min.css set `[hidden] { display: none !important; }` so we also need the `!important` here to be able to override the default hidden behavior on the sphinx rendered scikit-learn.org. See: https://github.com/scikit-learn/scikit-learn/issues/21755 */display: inline-block !important;position: relative;}#sk-container-id-1 div.sk-text-repr-fallback {display: none;}</style><div id=\"sk-container-id-1\" class=\"sk-top-container\"><div class=\"sk-text-repr-fallback\"><pre>RandomizedSearchCV(cv=5,\n",
       "                   estimator=Pipeline(steps=[(&#x27;vectorizer&#x27;, CountVectorizer()),\n",
       "                                             (&#x27;resampler&#x27;,\n",
       "                                              SMOTE(random_state=0)),\n",
       "                                             (&#x27;model&#x27;,\n",
       "                                              DecisionTreeClassifier(max_depth=5))]),\n",
       "                   n_iter=200, n_jobs=-1,\n",
       "                   param_distributions={&#x27;model__max_depth&#x27;: range(2, 30),\n",
       "                                        &#x27;model__min_samples_leaf&#x27;: range(2, 1000, 2),\n",
       "                                        &#x27;model__min_samples_split&#x27;: range(2, 1000, 2),\n",
       "                                        &#x27;resampler&#x27;: [SMOTE(), NearMiss()],\n",
       "                                        &#x27;vectorizer&#x27;: [CountVectorizer(),\n",
       "                                                       TfidfVectorizer(norm=None)]},\n",
       "                   random_state=0, scoring=&#x27;recall&#x27;)</pre><b>In a Jupyter environment, please rerun this cell to show the HTML representation or trust the notebook. <br />On GitHub, the HTML representation is unable to render, please try loading this page with nbviewer.org.</b></div><div class=\"sk-container\" hidden><div class=\"sk-item sk-dashed-wrapped\"><div class=\"sk-label-container\"><div class=\"sk-label sk-toggleable\"><input class=\"sk-toggleable__control sk-hidden--visually\" id=\"sk-estimator-id-1\" type=\"checkbox\" ><label for=\"sk-estimator-id-1\" class=\"sk-toggleable__label sk-toggleable__label-arrow\">RandomizedSearchCV</label><div class=\"sk-toggleable__content\"><pre>RandomizedSearchCV(cv=5,\n",
       "                   estimator=Pipeline(steps=[(&#x27;vectorizer&#x27;, CountVectorizer()),\n",
       "                                             (&#x27;resampler&#x27;,\n",
       "                                              SMOTE(random_state=0)),\n",
       "                                             (&#x27;model&#x27;,\n",
       "                                              DecisionTreeClassifier(max_depth=5))]),\n",
       "                   n_iter=200, n_jobs=-1,\n",
       "                   param_distributions={&#x27;model__max_depth&#x27;: range(2, 30),\n",
       "                                        &#x27;model__min_samples_leaf&#x27;: range(2, 1000, 2),\n",
       "                                        &#x27;model__min_samples_split&#x27;: range(2, 1000, 2),\n",
       "                                        &#x27;resampler&#x27;: [SMOTE(), NearMiss()],\n",
       "                                        &#x27;vectorizer&#x27;: [CountVectorizer(),\n",
       "                                                       TfidfVectorizer(norm=None)]},\n",
       "                   random_state=0, scoring=&#x27;recall&#x27;)</pre></div></div></div><div class=\"sk-parallel\"><div class=\"sk-parallel-item\"><div class=\"sk-item\"><div class=\"sk-label-container\"><div class=\"sk-label sk-toggleable\"><input class=\"sk-toggleable__control sk-hidden--visually\" id=\"sk-estimator-id-2\" type=\"checkbox\" ><label for=\"sk-estimator-id-2\" class=\"sk-toggleable__label sk-toggleable__label-arrow\">estimator: Pipeline</label><div class=\"sk-toggleable__content\"><pre>Pipeline(steps=[(&#x27;vectorizer&#x27;, CountVectorizer()),\n",
       "                (&#x27;resampler&#x27;, SMOTE(random_state=0)),\n",
       "                (&#x27;model&#x27;, DecisionTreeClassifier(max_depth=5))])</pre></div></div></div><div class=\"sk-serial\"><div class=\"sk-item\"><div class=\"sk-serial\"><div class=\"sk-item\"><div class=\"sk-estimator sk-toggleable\"><input class=\"sk-toggleable__control sk-hidden--visually\" id=\"sk-estimator-id-3\" type=\"checkbox\" ><label for=\"sk-estimator-id-3\" class=\"sk-toggleable__label sk-toggleable__label-arrow\">CountVectorizer</label><div class=\"sk-toggleable__content\"><pre>CountVectorizer()</pre></div></div></div><div class=\"sk-item\"><div class=\"sk-estimator sk-toggleable\"><input class=\"sk-toggleable__control sk-hidden--visually\" id=\"sk-estimator-id-4\" type=\"checkbox\" ><label for=\"sk-estimator-id-4\" class=\"sk-toggleable__label sk-toggleable__label-arrow\">SMOTE</label><div class=\"sk-toggleable__content\"><pre>SMOTE(random_state=0)</pre></div></div></div><div class=\"sk-item\"><div class=\"sk-estimator sk-toggleable\"><input class=\"sk-toggleable__control sk-hidden--visually\" id=\"sk-estimator-id-5\" type=\"checkbox\" ><label for=\"sk-estimator-id-5\" class=\"sk-toggleable__label sk-toggleable__label-arrow\">DecisionTreeClassifier</label><div class=\"sk-toggleable__content\"><pre>DecisionTreeClassifier(max_depth=5)</pre></div></div></div></div></div></div></div></div></div></div></div></div>"
      ],
      "text/plain": [
       "RandomizedSearchCV(cv=5,\n",
       "                   estimator=Pipeline(steps=[('vectorizer', CountVectorizer()),\n",
       "                                             ('resampler',\n",
       "                                              SMOTE(random_state=0)),\n",
       "                                             ('model',\n",
       "                                              DecisionTreeClassifier(max_depth=5))]),\n",
       "                   n_iter=200, n_jobs=-1,\n",
       "                   param_distributions={'model__max_depth': range(2, 30),\n",
       "                                        'model__min_samples_leaf': range(2, 1000, 2),\n",
       "                                        'model__min_samples_split': range(2, 1000, 2),\n",
       "                                        'resampler': [SMOTE(), NearMiss()],\n",
       "                                        'vectorizer': [CountVectorizer(),\n",
       "                                                       TfidfVectorizer(norm=None)]},\n",
       "                   random_state=0, scoring='recall')"
      ]
     },
     "execution_count": 90,
     "metadata": {},
     "output_type": "execute_result"
    }
   ],
   "source": [
    "# fit\n",
    "random_search.fit(text_train, y_train)"
   ]
  },
  {
   "cell_type": "code",
   "execution_count": 91,
   "metadata": {},
   "outputs": [
    {
     "data": {
      "text/plain": [
       "{'vectorizer': TfidfVectorizer(norm=None),\n",
       " 'resampler': SMOTE(),\n",
       " 'model__min_samples_split': 760,\n",
       " 'model__min_samples_leaf': 20,\n",
       " 'model__max_depth': 26}"
      ]
     },
     "execution_count": 91,
     "metadata": {},
     "output_type": "execute_result"
    }
   ],
   "source": [
    "random_search.best_params_"
   ]
  },
  {
   "cell_type": "code",
   "execution_count": 92,
   "metadata": {},
   "outputs": [
    {
     "data": {
      "text/plain": [
       "0.7480246622755846"
      ]
     },
     "execution_count": 92,
     "metadata": {},
     "output_type": "execute_result"
    }
   ],
   "source": [
    "random_search.best_score_"
   ]
  },
  {
   "attachments": {},
   "cell_type": "markdown",
   "metadata": {},
   "source": [
    "## Predict to Test Set"
   ]
  },
  {
   "cell_type": "markdown",
   "metadata": {},
   "source": [
    "Before Tuning"
   ]
  },
  {
   "cell_type": "code",
   "execution_count": 93,
   "metadata": {},
   "outputs": [
    {
     "data": {
      "text/plain": [
       "0.5907602764641688"
      ]
     },
     "execution_count": 93,
     "metadata": {},
     "output_type": "execute_result"
    }
   ],
   "source": [
    "# model\n",
    "model = DecisionTreeClassifier(max_depth=5)\n",
    "\n",
    "# vectorizer\n",
    "vectorizer = TfidfVectorizer(norm=None)\n",
    "\n",
    "# resampler\n",
    "resampler = SMOTE(random_state=0)\n",
    "\n",
    "# pipeline\n",
    "model_pipe = Pipeline([ \n",
    "    ('vectorizer', vectorizer),\n",
    "    ('resampler', resampler),\n",
    "    ('model', model)\n",
    "])\n",
    "\n",
    "# fitting\n",
    "model_pipe.fit(text_train, y_train)\n",
    "\n",
    "# predict\n",
    "y_pred_before = model_pipe.predict(text_test)\n",
    "\n",
    "# f1 score\n",
    "f1_score(y_test, y_pred_before)\n"
   ]
  },
  {
   "cell_type": "markdown",
   "metadata": {},
   "source": [
    "After Tuning"
   ]
  },
  {
   "cell_type": "code",
   "execution_count": 94,
   "metadata": {},
   "outputs": [
    {
     "data": {
      "text/plain": [
       "0.7969924812030075"
      ]
     },
     "execution_count": 94,
     "metadata": {},
     "output_type": "execute_result"
    }
   ],
   "source": [
    "best_model = random_search.best_estimator_\n",
    "\n",
    "# fitting\n",
    "best_model.fit(text_train, y_train)\n",
    "\n",
    "# predict\n",
    "y_pred_after = best_model.predict(text_test)\n",
    "\n",
    "# f1 score\n",
    "f1_score(y_test, y_pred_after)"
   ]
  },
  {
   "cell_type": "code",
   "execution_count": 95,
   "metadata": {},
   "outputs": [
    {
     "data": {
      "text/plain": [
       "Text(0.5, 1.0, 'After Tuning')"
      ]
     },
     "execution_count": 95,
     "metadata": {},
     "output_type": "execute_result"
    },
    {
     "data": {
      "image/png": "[encoded data removed]",
      "text/plain": [
       "<Figure size 1152x288 with 4 Axes>"
      ]
     },
     "metadata": {
      "needs_background": "light"
     },
     "output_type": "display_data"
    }
   ],
   "source": [
    "plt.figure(figsize=(16,4))\n",
    "\n",
    "plt.subplot(1,2,1)\n",
    "sns.heatmap(confusion_matrix(y_test, y_pred_before), annot=True, fmt='.0f', square=True)\n",
    "plt.title('Before Tuning')\n",
    "\n",
    "plt.subplot(1,2,2)\n",
    "sns.heatmap(confusion_matrix(y_test, y_pred_after), annot=True, fmt='.0f', square=True)\n",
    "plt.title('After Tuning')\n"
   ]
  },
  {
   "cell_type": "code",
   "execution_count": 96,
   "metadata": {},
   "outputs": [
    {
     "name": "stdout",
     "output_type": "stream",
     "text": [
      "0.5907602764641688 Before hyperpameter tuning\n",
      "0.7969924812030075 After hyperpameter tuning\n"
     ]
    }
   ],
   "source": [
    "# Performa model meningkat setelah dilakukan hyperpameter tuning\n",
    "\n",
    "print(f1_score(y_test, y_pred_before), 'Before hyperpameter tuning')\n",
    "print(f1_score(y_test, y_pred_after), 'After hyperpameter tuning')"
   ]
  },
  {
   "attachments": {},
   "cell_type": "markdown",
   "metadata": {},
   "source": [
    "### Kesimpulan\n",
    "\n",
    "- FP: kita prediksi tweet bersentimen negatif (contoh: tweet complain), padahal aktualnya bersentimen positif/netral (contoh: tweet apresiasi)\n",
    "- FN: kita prediksi tweet bersentimen positif/netral (contoh: tweet apresiasi), padahal aktualnya bersentimen negatif (contoh: tweet complain)\n",
    "\n",
    "FN lebih berbahaya dari pada FP. Karena jika kita memprediksi sebuah tweet sebagai tweet yg bersentimen positif/netral (contoh: tweet apresiasi),\n",
    "maka kita tidak menjadikan tweet tersebut sebagai prioritas untuk direspon, padahal tweet tetsebut bersentimen negatif. Efeknya user akan mengaggap\n",
    "maskapai kita punya service yang buruk.\n",
    "\n",
    "Usaha lain yang bisa kita coba untuk menurunkan FN adalah dengan mengatur nilai threshold."
   ]
  },
  {
   "cell_type": "code",
   "execution_count": null,
   "metadata": {},
   "outputs": [],
   "source": []
  },
  {
   "attachments": {},
   "cell_type": "markdown",
   "metadata": {},
   "source": [
    "---\n",
    "### Coba: Optimized Threshold"
   ]
  },
  {
   "cell_type": "code",
   "execution_count": 105,
   "metadata": {},
   "outputs": [],
   "source": [
    "# model\n",
    "best_model = random_search.best_estimator_\n",
    "\n",
    "# fitting\n",
    "best_model.fit(text_train, y_train)\n",
    "\n",
    "list_threshold = np.arange(0.01, 0.99, 0.01)\n",
    "list_score = []\n",
    "list_tp = []\n",
    "list_tn = []\n",
    "list_fp = []\n",
    "list_fn = []\n",
    "\n",
    "for threshold in list_threshold:\n",
    "\n",
    "    # predict\n",
    "    y_pred_proba = best_model.predict_proba(text_test)[:,1]\n",
    "    y_pred = np.where(y_pred_proba > threshold, 1, 0)\n",
    "\n",
    "    # score\n",
    "    score = recall_score(y_test, y_pred)\n",
    "    list_score.append(score)\n",
    "\n",
    "    # confusion matrix\n",
    "    tp = confusion_matrix(y_test, y_pred)[1, 1]\n",
    "    tn = confusion_matrix(y_test, y_pred)[0, 0]\n",
    "    fp = confusion_matrix(y_test, y_pred)[0, 1]\n",
    "    fn = confusion_matrix(y_test, y_pred)[1, 0]\n",
    "\n",
    "    list_tp.append(tp)\n",
    "    list_tn.append(tn)\n",
    "    list_fp.append(fp)\n",
    "    list_fn.append(fn)"
   ]
  },
  {
   "cell_type": "code",
   "execution_count": 110,
   "metadata": {},
   "outputs": [
    {
     "data": {
      "text/html": [
       "<div>\n",
       "<style scoped>\n",
       "    .dataframe tbody tr th:only-of-type {\n",
       "        vertical-align: middle;\n",
       "    }\n",
       "\n",
       "    .dataframe tbody tr th {\n",
       "        vertical-align: top;\n",
       "    }\n",
       "\n",
       "    .dataframe thead th {\n",
       "        text-align: right;\n",
       "    }\n",
       "</style>\n",
       "<table border=\"1\" class=\"dataframe\">\n",
       "  <thead>\n",
       "    <tr style=\"text-align: right;\">\n",
       "      <th></th>\n",
       "      <th>threshold</th>\n",
       "      <th>score</th>\n",
       "      <th>tp</th>\n",
       "      <th>tn</th>\n",
       "      <th>fp</th>\n",
       "      <th>fn</th>\n",
       "    </tr>\n",
       "  </thead>\n",
       "  <tbody>\n",
       "    <tr>\n",
       "      <th>0</th>\n",
       "      <td>0.01</td>\n",
       "      <td>1.000000</td>\n",
       "      <td>1836</td>\n",
       "      <td>0</td>\n",
       "      <td>1092</td>\n",
       "      <td>0</td>\n",
       "    </tr>\n",
       "    <tr>\n",
       "      <th>1</th>\n",
       "      <td>0.02</td>\n",
       "      <td>1.000000</td>\n",
       "      <td>1836</td>\n",
       "      <td>0</td>\n",
       "      <td>1092</td>\n",
       "      <td>0</td>\n",
       "    </tr>\n",
       "    <tr>\n",
       "      <th>2</th>\n",
       "      <td>0.03</td>\n",
       "      <td>1.000000</td>\n",
       "      <td>1836</td>\n",
       "      <td>0</td>\n",
       "      <td>1092</td>\n",
       "      <td>0</td>\n",
       "    </tr>\n",
       "    <tr>\n",
       "      <th>3</th>\n",
       "      <td>0.04</td>\n",
       "      <td>1.000000</td>\n",
       "      <td>1836</td>\n",
       "      <td>0</td>\n",
       "      <td>1092</td>\n",
       "      <td>0</td>\n",
       "    </tr>\n",
       "    <tr>\n",
       "      <th>4</th>\n",
       "      <td>0.05</td>\n",
       "      <td>0.997277</td>\n",
       "      <td>1831</td>\n",
       "      <td>84</td>\n",
       "      <td>1008</td>\n",
       "      <td>5</td>\n",
       "    </tr>\n",
       "    <tr>\n",
       "      <th>5</th>\n",
       "      <td>0.06</td>\n",
       "      <td>0.997277</td>\n",
       "      <td>1831</td>\n",
       "      <td>84</td>\n",
       "      <td>1008</td>\n",
       "      <td>5</td>\n",
       "    </tr>\n",
       "    <tr>\n",
       "      <th>6</th>\n",
       "      <td>0.07</td>\n",
       "      <td>0.997277</td>\n",
       "      <td>1831</td>\n",
       "      <td>84</td>\n",
       "      <td>1008</td>\n",
       "      <td>5</td>\n",
       "    </tr>\n",
       "    <tr>\n",
       "      <th>7</th>\n",
       "      <td>0.08</td>\n",
       "      <td>0.984205</td>\n",
       "      <td>1807</td>\n",
       "      <td>175</td>\n",
       "      <td>917</td>\n",
       "      <td>29</td>\n",
       "    </tr>\n",
       "    <tr>\n",
       "      <th>8</th>\n",
       "      <td>0.09</td>\n",
       "      <td>0.984205</td>\n",
       "      <td>1807</td>\n",
       "      <td>175</td>\n",
       "      <td>917</td>\n",
       "      <td>29</td>\n",
       "    </tr>\n",
       "    <tr>\n",
       "      <th>9</th>\n",
       "      <td>0.10</td>\n",
       "      <td>0.984205</td>\n",
       "      <td>1807</td>\n",
       "      <td>175</td>\n",
       "      <td>917</td>\n",
       "      <td>29</td>\n",
       "    </tr>\n",
       "    <tr>\n",
       "      <th>10</th>\n",
       "      <td>0.11</td>\n",
       "      <td>0.984205</td>\n",
       "      <td>1807</td>\n",
       "      <td>175</td>\n",
       "      <td>917</td>\n",
       "      <td>29</td>\n",
       "    </tr>\n",
       "    <tr>\n",
       "      <th>11</th>\n",
       "      <td>0.12</td>\n",
       "      <td>0.984205</td>\n",
       "      <td>1807</td>\n",
       "      <td>175</td>\n",
       "      <td>917</td>\n",
       "      <td>29</td>\n",
       "    </tr>\n",
       "    <tr>\n",
       "      <th>12</th>\n",
       "      <td>0.13</td>\n",
       "      <td>0.984205</td>\n",
       "      <td>1807</td>\n",
       "      <td>175</td>\n",
       "      <td>917</td>\n",
       "      <td>29</td>\n",
       "    </tr>\n",
       "    <tr>\n",
       "      <th>13</th>\n",
       "      <td>0.14</td>\n",
       "      <td>0.984205</td>\n",
       "      <td>1807</td>\n",
       "      <td>175</td>\n",
       "      <td>917</td>\n",
       "      <td>29</td>\n",
       "    </tr>\n",
       "    <tr>\n",
       "      <th>14</th>\n",
       "      <td>0.15</td>\n",
       "      <td>0.984205</td>\n",
       "      <td>1807</td>\n",
       "      <td>175</td>\n",
       "      <td>917</td>\n",
       "      <td>29</td>\n",
       "    </tr>\n",
       "    <tr>\n",
       "      <th>15</th>\n",
       "      <td>0.16</td>\n",
       "      <td>0.981481</td>\n",
       "      <td>1802</td>\n",
       "      <td>188</td>\n",
       "      <td>904</td>\n",
       "      <td>34</td>\n",
       "    </tr>\n",
       "    <tr>\n",
       "      <th>16</th>\n",
       "      <td>0.17</td>\n",
       "      <td>0.978758</td>\n",
       "      <td>1797</td>\n",
       "      <td>205</td>\n",
       "      <td>887</td>\n",
       "      <td>39</td>\n",
       "    </tr>\n",
       "    <tr>\n",
       "      <th>17</th>\n",
       "      <td>0.18</td>\n",
       "      <td>0.978758</td>\n",
       "      <td>1797</td>\n",
       "      <td>205</td>\n",
       "      <td>887</td>\n",
       "      <td>39</td>\n",
       "    </tr>\n",
       "    <tr>\n",
       "      <th>18</th>\n",
       "      <td>0.19</td>\n",
       "      <td>0.978758</td>\n",
       "      <td>1797</td>\n",
       "      <td>205</td>\n",
       "      <td>887</td>\n",
       "      <td>39</td>\n",
       "    </tr>\n",
       "    <tr>\n",
       "      <th>19</th>\n",
       "      <td>0.20</td>\n",
       "      <td>0.978758</td>\n",
       "      <td>1797</td>\n",
       "      <td>205</td>\n",
       "      <td>887</td>\n",
       "      <td>39</td>\n",
       "    </tr>\n",
       "    <tr>\n",
       "      <th>20</th>\n",
       "      <td>0.21</td>\n",
       "      <td>0.978758</td>\n",
       "      <td>1797</td>\n",
       "      <td>205</td>\n",
       "      <td>887</td>\n",
       "      <td>39</td>\n",
       "    </tr>\n",
       "    <tr>\n",
       "      <th>21</th>\n",
       "      <td>0.22</td>\n",
       "      <td>0.978758</td>\n",
       "      <td>1797</td>\n",
       "      <td>205</td>\n",
       "      <td>887</td>\n",
       "      <td>39</td>\n",
       "    </tr>\n",
       "    <tr>\n",
       "      <th>22</th>\n",
       "      <td>0.23</td>\n",
       "      <td>0.978214</td>\n",
       "      <td>1796</td>\n",
       "      <td>213</td>\n",
       "      <td>879</td>\n",
       "      <td>40</td>\n",
       "    </tr>\n",
       "    <tr>\n",
       "      <th>23</th>\n",
       "      <td>0.24</td>\n",
       "      <td>0.978214</td>\n",
       "      <td>1796</td>\n",
       "      <td>213</td>\n",
       "      <td>879</td>\n",
       "      <td>40</td>\n",
       "    </tr>\n",
       "    <tr>\n",
       "      <th>24</th>\n",
       "      <td>0.25</td>\n",
       "      <td>0.978214</td>\n",
       "      <td>1796</td>\n",
       "      <td>213</td>\n",
       "      <td>879</td>\n",
       "      <td>40</td>\n",
       "    </tr>\n",
       "    <tr>\n",
       "      <th>25</th>\n",
       "      <td>0.26</td>\n",
       "      <td>0.978214</td>\n",
       "      <td>1796</td>\n",
       "      <td>213</td>\n",
       "      <td>879</td>\n",
       "      <td>40</td>\n",
       "    </tr>\n",
       "    <tr>\n",
       "      <th>26</th>\n",
       "      <td>0.27</td>\n",
       "      <td>0.978214</td>\n",
       "      <td>1796</td>\n",
       "      <td>213</td>\n",
       "      <td>879</td>\n",
       "      <td>40</td>\n",
       "    </tr>\n",
       "    <tr>\n",
       "      <th>27</th>\n",
       "      <td>0.28</td>\n",
       "      <td>0.778867</td>\n",
       "      <td>1430</td>\n",
       "      <td>792</td>\n",
       "      <td>300</td>\n",
       "      <td>406</td>\n",
       "    </tr>\n",
       "    <tr>\n",
       "      <th>28</th>\n",
       "      <td>0.29</td>\n",
       "      <td>0.778867</td>\n",
       "      <td>1430</td>\n",
       "      <td>792</td>\n",
       "      <td>300</td>\n",
       "      <td>406</td>\n",
       "    </tr>\n",
       "    <tr>\n",
       "      <th>29</th>\n",
       "      <td>0.30</td>\n",
       "      <td>0.778867</td>\n",
       "      <td>1430</td>\n",
       "      <td>792</td>\n",
       "      <td>300</td>\n",
       "      <td>406</td>\n",
       "    </tr>\n",
       "    <tr>\n",
       "      <th>30</th>\n",
       "      <td>0.31</td>\n",
       "      <td>0.778867</td>\n",
       "      <td>1430</td>\n",
       "      <td>792</td>\n",
       "      <td>300</td>\n",
       "      <td>406</td>\n",
       "    </tr>\n",
       "    <tr>\n",
       "      <th>31</th>\n",
       "      <td>0.32</td>\n",
       "      <td>0.778867</td>\n",
       "      <td>1430</td>\n",
       "      <td>792</td>\n",
       "      <td>300</td>\n",
       "      <td>406</td>\n",
       "    </tr>\n",
       "    <tr>\n",
       "      <th>32</th>\n",
       "      <td>0.33</td>\n",
       "      <td>0.778867</td>\n",
       "      <td>1430</td>\n",
       "      <td>792</td>\n",
       "      <td>300</td>\n",
       "      <td>406</td>\n",
       "    </tr>\n",
       "    <tr>\n",
       "      <th>33</th>\n",
       "      <td>0.34</td>\n",
       "      <td>0.777233</td>\n",
       "      <td>1427</td>\n",
       "      <td>793</td>\n",
       "      <td>299</td>\n",
       "      <td>409</td>\n",
       "    </tr>\n",
       "    <tr>\n",
       "      <th>34</th>\n",
       "      <td>0.35</td>\n",
       "      <td>0.777233</td>\n",
       "      <td>1427</td>\n",
       "      <td>793</td>\n",
       "      <td>299</td>\n",
       "      <td>409</td>\n",
       "    </tr>\n",
       "    <tr>\n",
       "      <th>35</th>\n",
       "      <td>0.36</td>\n",
       "      <td>0.775054</td>\n",
       "      <td>1423</td>\n",
       "      <td>798</td>\n",
       "      <td>294</td>\n",
       "      <td>413</td>\n",
       "    </tr>\n",
       "    <tr>\n",
       "      <th>36</th>\n",
       "      <td>0.37</td>\n",
       "      <td>0.775054</td>\n",
       "      <td>1423</td>\n",
       "      <td>798</td>\n",
       "      <td>294</td>\n",
       "      <td>413</td>\n",
       "    </tr>\n",
       "    <tr>\n",
       "      <th>37</th>\n",
       "      <td>0.38</td>\n",
       "      <td>0.773420</td>\n",
       "      <td>1420</td>\n",
       "      <td>801</td>\n",
       "      <td>291</td>\n",
       "      <td>416</td>\n",
       "    </tr>\n",
       "    <tr>\n",
       "      <th>38</th>\n",
       "      <td>0.39</td>\n",
       "      <td>0.773420</td>\n",
       "      <td>1420</td>\n",
       "      <td>801</td>\n",
       "      <td>291</td>\n",
       "      <td>416</td>\n",
       "    </tr>\n",
       "    <tr>\n",
       "      <th>39</th>\n",
       "      <td>0.40</td>\n",
       "      <td>0.770697</td>\n",
       "      <td>1415</td>\n",
       "      <td>808</td>\n",
       "      <td>284</td>\n",
       "      <td>421</td>\n",
       "    </tr>\n",
       "    <tr>\n",
       "      <th>40</th>\n",
       "      <td>0.41</td>\n",
       "      <td>0.770697</td>\n",
       "      <td>1415</td>\n",
       "      <td>808</td>\n",
       "      <td>284</td>\n",
       "      <td>421</td>\n",
       "    </tr>\n",
       "    <tr>\n",
       "      <th>41</th>\n",
       "      <td>0.42</td>\n",
       "      <td>0.770697</td>\n",
       "      <td>1415</td>\n",
       "      <td>808</td>\n",
       "      <td>284</td>\n",
       "      <td>421</td>\n",
       "    </tr>\n",
       "    <tr>\n",
       "      <th>42</th>\n",
       "      <td>0.43</td>\n",
       "      <td>0.770697</td>\n",
       "      <td>1415</td>\n",
       "      <td>808</td>\n",
       "      <td>284</td>\n",
       "      <td>421</td>\n",
       "    </tr>\n",
       "    <tr>\n",
       "      <th>43</th>\n",
       "      <td>0.44</td>\n",
       "      <td>0.767974</td>\n",
       "      <td>1410</td>\n",
       "      <td>810</td>\n",
       "      <td>282</td>\n",
       "      <td>426</td>\n",
       "    </tr>\n",
       "    <tr>\n",
       "      <th>44</th>\n",
       "      <td>0.45</td>\n",
       "      <td>0.767974</td>\n",
       "      <td>1410</td>\n",
       "      <td>810</td>\n",
       "      <td>282</td>\n",
       "      <td>426</td>\n",
       "    </tr>\n",
       "    <tr>\n",
       "      <th>45</th>\n",
       "      <td>0.46</td>\n",
       "      <td>0.767974</td>\n",
       "      <td>1410</td>\n",
       "      <td>810</td>\n",
       "      <td>282</td>\n",
       "      <td>426</td>\n",
       "    </tr>\n",
       "    <tr>\n",
       "      <th>46</th>\n",
       "      <td>0.47</td>\n",
       "      <td>0.767974</td>\n",
       "      <td>1410</td>\n",
       "      <td>810</td>\n",
       "      <td>282</td>\n",
       "      <td>426</td>\n",
       "    </tr>\n",
       "    <tr>\n",
       "      <th>47</th>\n",
       "      <td>0.48</td>\n",
       "      <td>0.767974</td>\n",
       "      <td>1410</td>\n",
       "      <td>810</td>\n",
       "      <td>282</td>\n",
       "      <td>426</td>\n",
       "    </tr>\n",
       "    <tr>\n",
       "      <th>48</th>\n",
       "      <td>0.49</td>\n",
       "      <td>0.767974</td>\n",
       "      <td>1410</td>\n",
       "      <td>810</td>\n",
       "      <td>282</td>\n",
       "      <td>426</td>\n",
       "    </tr>\n",
       "    <tr>\n",
       "      <th>49</th>\n",
       "      <td>0.50</td>\n",
       "      <td>0.766340</td>\n",
       "      <td>1407</td>\n",
       "      <td>815</td>\n",
       "      <td>277</td>\n",
       "      <td>429</td>\n",
       "    </tr>\n",
       "  </tbody>\n",
       "</table>\n",
       "</div>"
      ],
      "text/plain": [
       "    threshold     score    tp   tn    fp   fn\n",
       "0        0.01  1.000000  1836    0  1092    0\n",
       "1        0.02  1.000000  1836    0  1092    0\n",
       "2        0.03  1.000000  1836    0  1092    0\n",
       "3        0.04  1.000000  1836    0  1092    0\n",
       "4        0.05  0.997277  1831   84  1008    5\n",
       "5        0.06  0.997277  1831   84  1008    5\n",
       "6        0.07  0.997277  1831   84  1008    5\n",
       "7        0.08  0.984205  1807  175   917   29\n",
       "8        0.09  0.984205  1807  175   917   29\n",
       "9        0.10  0.984205  1807  175   917   29\n",
       "10       0.11  0.984205  1807  175   917   29\n",
       "11       0.12  0.984205  1807  175   917   29\n",
       "12       0.13  0.984205  1807  175   917   29\n",
       "13       0.14  0.984205  1807  175   917   29\n",
       "14       0.15  0.984205  1807  175   917   29\n",
       "15       0.16  0.981481  1802  188   904   34\n",
       "16       0.17  0.978758  1797  205   887   39\n",
       "17       0.18  0.978758  1797  205   887   39\n",
       "18       0.19  0.978758  1797  205   887   39\n",
       "19       0.20  0.978758  1797  205   887   39\n",
       "20       0.21  0.978758  1797  205   887   39\n",
       "21       0.22  0.978758  1797  205   887   39\n",
       "22       0.23  0.978214  1796  213   879   40\n",
       "23       0.24  0.978214  1796  213   879   40\n",
       "24       0.25  0.978214  1796  213   879   40\n",
       "25       0.26  0.978214  1796  213   879   40\n",
       "26       0.27  0.978214  1796  213   879   40\n",
       "27       0.28  0.778867  1430  792   300  406\n",
       "28       0.29  0.778867  1430  792   300  406\n",
       "29       0.30  0.778867  1430  792   300  406\n",
       "30       0.31  0.778867  1430  792   300  406\n",
       "31       0.32  0.778867  1430  792   300  406\n",
       "32       0.33  0.778867  1430  792   300  406\n",
       "33       0.34  0.777233  1427  793   299  409\n",
       "34       0.35  0.777233  1427  793   299  409\n",
       "35       0.36  0.775054  1423  798   294  413\n",
       "36       0.37  0.775054  1423  798   294  413\n",
       "37       0.38  0.773420  1420  801   291  416\n",
       "38       0.39  0.773420  1420  801   291  416\n",
       "39       0.40  0.770697  1415  808   284  421\n",
       "40       0.41  0.770697  1415  808   284  421\n",
       "41       0.42  0.770697  1415  808   284  421\n",
       "42       0.43  0.770697  1415  808   284  421\n",
       "43       0.44  0.767974  1410  810   282  426\n",
       "44       0.45  0.767974  1410  810   282  426\n",
       "45       0.46  0.767974  1410  810   282  426\n",
       "46       0.47  0.767974  1410  810   282  426\n",
       "47       0.48  0.767974  1410  810   282  426\n",
       "48       0.49  0.767974  1410  810   282  426\n",
       "49       0.50  0.766340  1407  815   277  429"
      ]
     },
     "execution_count": 110,
     "metadata": {},
     "output_type": "execute_result"
    }
   ],
   "source": [
    "df_score = pd.DataFrame({\n",
    "    'threshold': list_threshold,\n",
    "    'score': list_score,\n",
    "    'tp':list_tp,\n",
    "    'tn':list_tn,\n",
    "    'fp':list_fp,\n",
    "    'fn':list_fn\n",
    "}).sort_values(['score', 'threshold'], ascending=[False, True])\n",
    "\n",
    "df_score.head(50)"
   ]
  },
  {
   "cell_type": "code",
   "execution_count": 123,
   "metadata": {},
   "outputs": [
    {
     "data": {
      "text/plain": [
       "0.9776688453159041"
      ]
     },
     "execution_count": 123,
     "metadata": {},
     "output_type": "execute_result"
    }
   ],
   "source": [
    "# model\n",
    "best_model = random_search.best_estimator_\n",
    "\n",
    "# fitting\n",
    "best_model.fit(text_train, y_train)\n",
    "\n",
    "# predict\n",
    "y_pred_proba = best_model.predict_proba(text_test)[:,1]\n",
    "\n",
    "threshold=0.27\n",
    "y_pred = np.where(y_pred_proba > threshold, 1, 0)\n",
    "\n",
    "# f1 score\n",
    "score = recall_score(y_test, y_pred)\n",
    "score"
   ]
  },
  {
   "cell_type": "code",
   "execution_count": 124,
   "metadata": {},
   "outputs": [
    {
     "data": {
      "text/plain": [
       "array([[ 216,  876],\n",
       "       [  41, 1795]], dtype=int64)"
      ]
     },
     "execution_count": 124,
     "metadata": {},
     "output_type": "execute_result"
    }
   ],
   "source": [
    "confusion_matrix(y_test, y_pred)"
   ]
  },
  {
   "cell_type": "code",
   "execution_count": null,
   "metadata": {},
   "outputs": [],
   "source": []
  }
 ],
 "metadata": {
  "kernelspec": {
   "display_name": "pwdenv",
   "language": "python",
   "name": "python3"
  },
  "language_info": {
   "codemirror_mode": {
    "name": "ipython",
    "version": 3
   },
   "file_extension": ".py",
   "mimetype": "text/x-python",
   "name": "python",
   "nbconvert_exporter": "python",
   "pygments_lexer": "ipython3",
   "version": "3.10.5"
  },
  "orig_nbformat": 4,
  "vscode": {
   "interpreter": {
    "hash": "26d83cb9ebc769f8a392797c85547e3220df367d4f886ed011b3f771d6a84444"
   }
  }
 },
 "nbformat": 4,
 "nbformat_minor": 2
}
